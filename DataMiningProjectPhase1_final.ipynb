{
 "cells": [
  {
   "cell_type": "markdown",
   "id": "2b29b073-6086-4041-aa6d-ebe6509fbc45",
   "metadata": {},
   "source": [
    "# Data Mining"
   ]
  },
  {
   "cell_type": "markdown",
   "id": "99c48def-41df-4b50-a876-760e06e5143f",
   "metadata": {},
   "source": [
    "# Professor Sara Ross-Howe"
   ]
  },
  {
   "cell_type": "markdown",
   "id": "443d09f8-e21e-47ac-ac15-0fefc553e075",
   "metadata": {},
   "source": [
    "# Summative Group Project: Phase 1"
   ]
  },
  {
   "cell_type": "markdown",
   "id": "9dfcaf49-23bb-496f-87a0-13a41be727be",
   "metadata": {},
   "source": [
    "## Government Accountability with Open Data"
   ]
  },
  {
   "cell_type": "markdown",
   "id": "fd9c59ab-d55b-4ab1-b8cb-442dc6f6b8fa",
   "metadata": {},
   "source": [
    "## Sean Kuehl, Dominic Pham, Mason Ward"
   ]
  },
  {
   "cell_type": "markdown",
   "id": "1be3479a-e6bf-4a97-98a9-cf307d088bf5",
   "metadata": {},
   "source": [
    "### Phase 1: Problem Definition, Data Collection, and Data Preparation"
   ]
  },
  {
   "cell_type": "markdown",
   "id": "c36d64c8-9500-4b2a-b04b-702de5662d46",
   "metadata": {},
   "source": [
    "#### Problem Definition: Sean Kuehl"
   ]
  },
  {
   "cell_type": "markdown",
   "id": "5f3b7e74-41cb-446a-8b8d-a0f9a02877f6",
   "metadata": {},
   "source": [
    "All of us pay taxes, but almost none of us can say with confidence exactly where it's going. One of the places our government spends our tax dollars is on travel and hospitality for it's many ministers and ministries. These individuals are given discretion to use tax money if they feel a certain travel or hospitality event is necessary, but as a tax payer you may ask yourself: are these events always necessary? In this analysis we will use data from the Government of Canada's Open Data Initiative to investigate ministerial travel and hospitality expenses for interesting patterns and trends that could help us find possible efficeincies, waste or corruption in the use of our tax dollars. "
   ]
  },
  {
   "cell_type": "markdown",
   "id": "688c5c71-f272-441f-9548-6c4d4ebb90ee",
   "metadata": {},
   "source": [
    "#### Data Collection: Sean Kuehl"
   ]
  },
  {
   "cell_type": "markdown",
   "id": "44c913d5-7aee-4f70-840c-93beebe0ffbe",
   "metadata": {},
   "source": [
    "##### Dataset Sources and Information."
   ]
  },
  {
   "cell_type": "markdown",
   "id": "b8a19d6f-1998-4b4f-a691-f873e4590bea",
   "metadata": {},
   "source": [
    "For this project, we will be using two datasets from the Government of Canada's open data portal. These datasets are the Proactive Disclosure of Travel Expenses[1], and the Proactive Disclosure of Hospitality Expenses[2]. These datasets are updated daily, so it is worth noting that these datasets are as they were retrieved on July 19th, 2024. These resources are used under the Open Government License[3]."
   ]
  },
  {
   "cell_type": "markdown",
   "id": "50f7494b-d494-4b7c-8099-508be82b92f0",
   "metadata": {},
   "source": [
    "##### References"
   ]
  },
  {
   "cell_type": "markdown",
   "id": "81a4a75b-ccc6-4f2a-ae72-50db4f86bdf8",
   "metadata": {},
   "source": [
    "[1] Governemnt of Canada. (2024, July, 19). Proactive Disclosure - Travel Expenses[Data set]. Treasury Board of Canada Secretariat. https://open.canada.ca/data/en/dataset/009f9a49-c2d9-4d29-a6d4-1a228da335ce\n",
    " \n",
    "[2] Governemnt of Canada. (2024, July, 19). Proactive Disclosure - Hospitality Expenses[Data set]. Treasury Board of Canada Secretariat. https://open.canada.ca/data/en/dataset/b9f51ef4-4605-4ef2-8231-62a2edda1b54\n",
    "\n",
    "[3] Open Government - Government of Canada. (2013, April 26). Open Government Licence - Canada. Retrieved from http://open.canada.ca/en/open-government-licence-canada \n"
   ]
  },
  {
   "cell_type": "markdown",
   "id": "460033c5-2da0-447e-a058-b4d494f3afc3",
   "metadata": {},
   "source": [
    "##### Loading and Tranformation of Datasets Overview"
   ]
  },
  {
   "cell_type": "markdown",
   "id": "f688004e-fc72-44f0-a296-c1945c69799f",
   "metadata": {},
   "source": [
    "These datasets contain many similar columns that they will be joined on to form one single transactional database. The general columns they share are:  Reference Number, Disclosure Group, Title(English), Title(French), Name, Purpose(English), Purpose(French), start date, end date, Location(English), Location(French), Total Amount, Additional Comments(English), Additional Comments(French), owner_org, owner_org_title. The Name, Location(English) and Location(French) columns of both datasets will need to be cleaned before they can be intgrated with the other data. The name column has several formatting issues such as \"Kuehl, Sean\" vs. \"Sean Kuehl\" issues along with several occurences of improper capitalization usage. Additionally, a new column will be added once the integration is complete, a \"Transaction Type\" column that will indicate whether an expense was Hospitality or Travel related."
   ]
  },
  {
   "cell_type": "markdown",
   "id": "688d4b55-1c27-4a1c-86e0-d894d0e3b26a",
   "metadata": {},
   "source": [
    "##### Loading and Tranformation of the Travel Expenses Dataset"
   ]
  },
  {
   "cell_type": "markdown",
   "id": "d6803cfe-b476-4d92-9779-4785b11cdb29",
   "metadata": {},
   "source": [
    "This dataset has a total of 116,543 entries and 19 attributes. The attributes are as follows with description where required.\n",
    "\n",
    "-Reference Number\n",
    "\n",
    "-Disclosure Group: This is the group to which the person belongs. Which is either \"MPSES\" for Minister/Ministerial adviser/Ministerial staff/Parliamentary Secretary/Exempt Staff or \"SLE\" for Senior officer or employee\n",
    "\n",
    "-Title(English): This is the position of the person who traveled in English\n",
    "\n",
    "-Title(English): This is the position of the person who traveled in French\n",
    "\n",
    "-Name\n",
    "\n",
    "-Purpose of Travel(English): A short explanation of the reason for the travel in English\n",
    "\n",
    "-Purpose of Travel(French): A short explanation of the reason for the travel in French\n",
    "\n",
    "-Travel Start Date\n",
    "\n",
    "-Travel End Date\n",
    "\n",
    "-Place Visited(English)\n",
    "\n",
    "-Place Visited(French)\n",
    "\n",
    "-Airfare: Cost of airplace tickets\n",
    "\n",
    "-Other Transportation: Cost of other transportation\n",
    "\n",
    "-Lodging: Cost of accomodations\n",
    "\n",
    "-Meals and Incidentals: Cost of meals and the like\n",
    "\n",
    "-Other Expenses: Any additional expenses not belonging to one of the previous kinds\n",
    "\n",
    "-Total Amount\n",
    "\n",
    "-Additional Comments(English)\n",
    "\n",
    "-Additional Comments(French\n",
    "\n"
   ]
  },
  {
   "cell_type": "markdown",
   "id": "3b551860-1623-4f5e-afe9-b236c17f5281",
   "metadata": {},
   "source": [
    "##### Loading the Dataset"
   ]
  },
  {
   "cell_type": "code",
   "execution_count": 1,
   "id": "1e5dd2d7-4803-4d6f-b2bb-7387f267a232",
   "metadata": {},
   "outputs": [
    {
     "name": "stdout",
     "output_type": "stream",
     "text": [
      "             ref_number disclosure_group                    title_en  \\\n",
      "0       T-20120-P11-001              SLE     Chief Executive Officer   \n",
      "1       T-2020-P11-0001              SLE                       Chair   \n",
      "2       T-2020-P11-0002              SLE                  Vice Chair   \n",
      "3       T-2020-P11-0003              SLE          Board Of Directors   \n",
      "4       T-2020-P11-0004              SLE          Board Of Directors   \n",
      "...                 ...              ...                         ...   \n",
      "116538     T-2022-P2-03              NaN         Chair of YESA Board   \n",
      "116539     T-2022-P1-06              NaN          Executive Director   \n",
      "116540     T-2022-P3-02              NaN  Executive Committee member   \n",
      "116541     T-2022-P3-03              NaN  Executive Committee member   \n",
      "116542     T-2022-P4-01              NaN  Executive Committee member   \n",
      "\n",
      "                              title_fr                 name  \\\n",
      "0          Président directeur-général     Philip Rizcallah   \n",
      "1                            Président  Bérubé, Paul-Claude   \n",
      "2                      vice-présidente           Reid, Mary   \n",
      "3       Membre du conseil de direction   McLaughlin, Joseph   \n",
      "4       Membre du conseil de direction        Haan, Maureen   \n",
      "...                                ...                  ...   \n",
      "116538             Présidente de YESAB         Lauren Haney   \n",
      "116539              Direction Générale         Kim Winnicky   \n",
      "116540      Membre du conseil executif      Dennis, Nicloux   \n",
      "116541      Membre du conseil executif       Dennis Nicloux   \n",
      "116542      Membre du conseil executif      Bryony McIntyre   \n",
      "\n",
      "                                               purpose_en  \\\n",
      "0       To attend meeting with Saskatchewan Provincial...   \n",
      "1                                   Board members meeting   \n",
      "2                                   Board members meeting   \n",
      "3                                   Board members meeting   \n",
      "4                                   Board members meeting   \n",
      "...                                                   ...   \n",
      "116538                                 Placer Mining Tour   \n",
      "116539             Pan territorial Board Forrm attendance   \n",
      "116540                                 Placer Mining Tour   \n",
      "116541          Meeting with Vuntut Gwitchin First Nation   \n",
      "116542          Meeting with Vuntut Gwitchin First Nation   \n",
      "\n",
      "                                               purpose_fr start_date  \\\n",
      "0       Pour assister à une réunion avec le gouverneme... 2020-02-03   \n",
      "1                                      Réunion du conseil 2020-02-09   \n",
      "2                                      Réunion du conseil 2020-02-09   \n",
      "3                                      Réunion du conseil 2020-02-09   \n",
      "4                                      Réunion du conseil 2020-02-09   \n",
      "...                                                   ...        ...   \n",
      "116538                   Tour de exploitation des placers 2022-08-15   \n",
      "116539             Fréquentation au Forum Pan-territorial 2022-10-30   \n",
      "116540                   Tour de exploitation des placers 2022-08-13   \n",
      "116541     Visite avec la premiere nation Vuntut Gwitchin 2022-10-17   \n",
      "116542     Visite avec la premiere nation Vuntut Gwitchin 2022-10-17   \n",
      "\n",
      "          end_date                       destination_en  ...  airfare  \\\n",
      "0       2020-02-04         Regina, Saskatchewan, Canada  ...   646.17   \n",
      "1       2020-02-13  Vancouver, British Columbia, Canada  ...  1104.27   \n",
      "2       2020-02-14  Vancouver, British Columbia, Canada  ...  2511.31   \n",
      "3       2020-02-12  Vancouver, British Columbia, Canada  ...      NaN   \n",
      "4       2020-02-12  Vancouver, British Columbia, Canada  ...   880.99   \n",
      "...            ...                                  ...  ...      ...   \n",
      "116538  2022-08-17                   Dawson City, Yukon  ...     0.00   \n",
      "116539  2022-11-04                     Yellowknife, NWT  ...  1624.25   \n",
      "116540  2022-08-17                   Dawson City, Yukon  ...   199.50   \n",
      "116541  2022-10-18                      Old Crow, Yukon  ...   943.00   \n",
      "116542  2022-10-18                      Old Crow, Yukon  ...   943.00   \n",
      "\n",
      "        other_transport  lodging   meals  other_expenses    total  \\\n",
      "0                117.26   157.78  197.25             0.0  1118.46   \n",
      "1                189.72   841.31  461.84             NaN  2597.14   \n",
      "2                132.48   785.65  591.00           108.3  4128.74   \n",
      "3                 58.32   630.99  264.60           123.0  1076.91   \n",
      "4                192.76   630.99  332.45             NaN  2037.19   \n",
      "...                 ...      ...     ...             ...      ...   \n",
      "116538           199.50   378.00  369.75             0.0   947.25   \n",
      "116539             0.00   820.00  687.15             0.0  3131.40   \n",
      "116540             0.00   378.00  308.00             0.0   885.80   \n",
      "116541             0.00     0.00    0.00             0.0   943.00   \n",
      "116542             0.00     0.00    0.00             0.0   943.00   \n",
      "\n",
      "        additional_comments_en additional_comments_fr    owner_org  \\\n",
      "0                          NaN                    NaN  casdo-ocena   \n",
      "1                          NaN                    NaN  casdo-ocena   \n",
      "2                          NaN                    NaN  casdo-ocena   \n",
      "3                          NaN                    NaN  casdo-ocena   \n",
      "4                          NaN                    NaN  casdo-ocena   \n",
      "...                        ...                    ...          ...   \n",
      "116538                     NaN                    NaN  yesab-oeesy   \n",
      "116539                     NaN                    NaN  yesab-oeesy   \n",
      "116540                     NaN                    NaN  yesab-oeesy   \n",
      "116541                     NaN                    NaN  yesab-oeesy   \n",
      "116542                     NaN                    NaN  yesab-oeesy   \n",
      "\n",
      "                                          owner_org_title  \n",
      "0       Accessibility Standards Canada | Normes d’acce...  \n",
      "1       Accessibility Standards Canada | Normes d’acce...  \n",
      "2       Accessibility Standards Canada | Normes d’acce...  \n",
      "3       Accessibility Standards Canada | Normes d’acce...  \n",
      "4       Accessibility Standards Canada | Normes d’acce...  \n",
      "...                                                   ...  \n",
      "116538  Yukon Environmental and Socio-economic Assessm...  \n",
      "116539  Yukon Environmental and Socio-economic Assessm...  \n",
      "116540  Yukon Environmental and Socio-economic Assessm...  \n",
      "116541  Yukon Environmental and Socio-economic Assessm...  \n",
      "116542  Yukon Environmental and Socio-economic Assessm...  \n",
      "\n",
      "[116543 rows x 21 columns]\n"
     ]
    }
   ],
   "source": [
    "import pandas as pd\n",
    "\n",
    "travel_data = pd.read_csv(\"travel expenses.csv\", parse_dates=[7, 8])\n",
    "\n",
    "print(travel_data)"
   ]
  },
  {
   "cell_type": "markdown",
   "id": "ec65fd37-9def-4779-8ff4-5caee02603de",
   "metadata": {},
   "source": [
    "##### Dropping uneeded columns"
   ]
  },
  {
   "cell_type": "markdown",
   "id": "419cd405-d707-4477-9c90-2bdea2bea602",
   "metadata": {},
   "source": [
    "The airfare, other_transport, lodging, meals and other_expenses columns have no counterpart in the other dataset and don't have any information that is valuable enough on their own to warrant keeping them. For this reason, we will remove these columns."
   ]
  },
  {
   "cell_type": "code",
   "execution_count": 2,
   "id": "f099bbf4-575a-436d-8ff5-6c6648596ef4",
   "metadata": {},
   "outputs": [
    {
     "name": "stdout",
     "output_type": "stream",
     "text": [
      "             ref_number disclosure_group                    title_en  \\\n",
      "0       T-20120-P11-001              SLE     Chief Executive Officer   \n",
      "1       T-2020-P11-0001              SLE                       Chair   \n",
      "2       T-2020-P11-0002              SLE                  Vice Chair   \n",
      "3       T-2020-P11-0003              SLE          Board Of Directors   \n",
      "4       T-2020-P11-0004              SLE          Board Of Directors   \n",
      "...                 ...              ...                         ...   \n",
      "116538     T-2022-P2-03              NaN         Chair of YESA Board   \n",
      "116539     T-2022-P1-06              NaN          Executive Director   \n",
      "116540     T-2022-P3-02              NaN  Executive Committee member   \n",
      "116541     T-2022-P3-03              NaN  Executive Committee member   \n",
      "116542     T-2022-P4-01              NaN  Executive Committee member   \n",
      "\n",
      "                              title_fr                 name  \\\n",
      "0          Président directeur-général     Philip Rizcallah   \n",
      "1                            Président  Bérubé, Paul-Claude   \n",
      "2                      vice-présidente           Reid, Mary   \n",
      "3       Membre du conseil de direction   McLaughlin, Joseph   \n",
      "4       Membre du conseil de direction        Haan, Maureen   \n",
      "...                                ...                  ...   \n",
      "116538             Présidente de YESAB         Lauren Haney   \n",
      "116539              Direction Générale         Kim Winnicky   \n",
      "116540      Membre du conseil executif      Dennis, Nicloux   \n",
      "116541      Membre du conseil executif       Dennis Nicloux   \n",
      "116542      Membre du conseil executif      Bryony McIntyre   \n",
      "\n",
      "                                               purpose_en  \\\n",
      "0       To attend meeting with Saskatchewan Provincial...   \n",
      "1                                   Board members meeting   \n",
      "2                                   Board members meeting   \n",
      "3                                   Board members meeting   \n",
      "4                                   Board members meeting   \n",
      "...                                                   ...   \n",
      "116538                                 Placer Mining Tour   \n",
      "116539             Pan territorial Board Forrm attendance   \n",
      "116540                                 Placer Mining Tour   \n",
      "116541          Meeting with Vuntut Gwitchin First Nation   \n",
      "116542          Meeting with Vuntut Gwitchin First Nation   \n",
      "\n",
      "                                               purpose_fr start_date  \\\n",
      "0       Pour assister à une réunion avec le gouverneme... 2020-02-03   \n",
      "1                                      Réunion du conseil 2020-02-09   \n",
      "2                                      Réunion du conseil 2020-02-09   \n",
      "3                                      Réunion du conseil 2020-02-09   \n",
      "4                                      Réunion du conseil 2020-02-09   \n",
      "...                                                   ...        ...   \n",
      "116538                   Tour de exploitation des placers 2022-08-15   \n",
      "116539             Fréquentation au Forum Pan-territorial 2022-10-30   \n",
      "116540                   Tour de exploitation des placers 2022-08-13   \n",
      "116541     Visite avec la premiere nation Vuntut Gwitchin 2022-10-17   \n",
      "116542     Visite avec la premiere nation Vuntut Gwitchin 2022-10-17   \n",
      "\n",
      "          end_date                       destination_en  \\\n",
      "0       2020-02-04         Regina, Saskatchewan, Canada   \n",
      "1       2020-02-13  Vancouver, British Columbia, Canada   \n",
      "2       2020-02-14  Vancouver, British Columbia, Canada   \n",
      "3       2020-02-12  Vancouver, British Columbia, Canada   \n",
      "4       2020-02-12  Vancouver, British Columbia, Canada   \n",
      "...            ...                                  ...   \n",
      "116538  2022-08-17                   Dawson City, Yukon   \n",
      "116539  2022-11-04                     Yellowknife, NWT   \n",
      "116540  2022-08-17                   Dawson City, Yukon   \n",
      "116541  2022-10-18                      Old Crow, Yukon   \n",
      "116542  2022-10-18                      Old Crow, Yukon   \n",
      "\n",
      "                         destination_fr    total additional_comments_en  \\\n",
      "0          Regina, Saskatchewan, Canada  1118.46                    NaN   \n",
      "1       Vancouver, Colombie-Britannique  2597.14                    NaN   \n",
      "2       Vancouver, Colombie-Britannique  4128.74                    NaN   \n",
      "3       Vancouver, Colombie-Britannique  1076.91                    NaN   \n",
      "4       Vancouver, Colombie-Britannique  2037.19                    NaN   \n",
      "...                                 ...      ...                    ...   \n",
      "116538               Dawson City, Yukon   947.25                    NaN   \n",
      "116539                 Yellowknife, TNO  3131.40                    NaN   \n",
      "116540               Dawson City, Yukon   885.80                    NaN   \n",
      "116541                  Old Crow, Yukon   943.00                    NaN   \n",
      "116542                  Old Crow, Yukon   943.00                    NaN   \n",
      "\n",
      "       additional_comments_fr    owner_org  \\\n",
      "0                         NaN  casdo-ocena   \n",
      "1                         NaN  casdo-ocena   \n",
      "2                         NaN  casdo-ocena   \n",
      "3                         NaN  casdo-ocena   \n",
      "4                         NaN  casdo-ocena   \n",
      "...                       ...          ...   \n",
      "116538                    NaN  yesab-oeesy   \n",
      "116539                    NaN  yesab-oeesy   \n",
      "116540                    NaN  yesab-oeesy   \n",
      "116541                    NaN  yesab-oeesy   \n",
      "116542                    NaN  yesab-oeesy   \n",
      "\n",
      "                                          owner_org_title  \n",
      "0       Accessibility Standards Canada | Normes d’acce...  \n",
      "1       Accessibility Standards Canada | Normes d’acce...  \n",
      "2       Accessibility Standards Canada | Normes d’acce...  \n",
      "3       Accessibility Standards Canada | Normes d’acce...  \n",
      "4       Accessibility Standards Canada | Normes d’acce...  \n",
      "...                                                   ...  \n",
      "116538  Yukon Environmental and Socio-economic Assessm...  \n",
      "116539  Yukon Environmental and Socio-economic Assessm...  \n",
      "116540  Yukon Environmental and Socio-economic Assessm...  \n",
      "116541  Yukon Environmental and Socio-economic Assessm...  \n",
      "116542  Yukon Environmental and Socio-economic Assessm...  \n",
      "\n",
      "[116543 rows x 16 columns]\n"
     ]
    }
   ],
   "source": [
    "travel_data.drop(columns=['airfare', 'other_transport', 'lodging', 'meals', 'other_expenses'], inplace=True)\n",
    "\n",
    "print(travel_data)"
   ]
  },
  {
   "cell_type": "markdown",
   "id": "ad5fb5a3-d732-46b5-b01e-9e7be9c0824a",
   "metadata": {},
   "source": [
    "##### Cleaning Name column"
   ]
  },
  {
   "cell_type": "markdown",
   "id": "50ac6f46-cc34-4061-a77d-6f78913d1836",
   "metadata": {},
   "source": [
    "The name column use a variety of formats that make identifying the same person across records sometimes difficult. A good example is Philip Rizcallah. Sometimes his name is written in as \"Philip Rizcallah\" and sometimes as \"Rizcallah, Philip\". There are other individuals like this and this will decrease the quality of the data and it's ability to be used for pattern finding and the ability to rely on the name columns as attributes in general. There is another case where an individuals fill name is given. For example, \"Sean L. Kuehl\". There is also the case where some names have odd capitalization, for instance the whole of the first name being capitalized for an unkown reason. For data cleaning purposes, I have chosen to flip the order of and remove the comma from the \"Rizcallah, Philip\" type of case. I will leave the other two cases unaffected, except for making them lowercase to deal with the aforementioned capitalization issue."
   ]
  },
  {
   "cell_type": "code",
   "execution_count": 3,
   "id": "e8861059-eb74-4704-8323-d8720036f1cd",
   "metadata": {},
   "outputs": [
    {
     "name": "stdout",
     "output_type": "stream",
     "text": [
      "0            philip rizcallah\n",
      "1          paul-claude bérubé\n",
      "2                   mary reid\n",
      "3           joseph mclaughlin\n",
      "4                maureen haan\n",
      "                 ...         \n",
      "116538           lauren haney\n",
      "116539           kim winnicky\n",
      "116540         nicloux dennis\n",
      "116541         dennis nicloux\n",
      "116542        bryony mcintyre\n",
      "Name: name, Length: 116543, dtype: object\n"
     ]
    }
   ],
   "source": [
    "pd.options.mode.chained_assignment = None  # default='warn'\n",
    "import math \n",
    "\n",
    "def name_cleaning_function(raw_name):\n",
    "    \n",
    "    if type(raw_name) is str:\n",
    "        clean_name = \"\"\n",
    "\n",
    "        raw_name = raw_name.strip()      #remove any leading or trailing whitespace\n",
    "\n",
    "        raw_name = raw_name.split(',')    #break up the names based on commas.If the name has no commas, it will just be a single string in a list. Else, it will be split into two elements, one the text before and the other the text after the comma.\n",
    "\n",
    "        if len(raw_name) == 1:\n",
    "            #if it doesn't contain any commas, it's fine as is.\n",
    "            #this is the case if it is a first name, last name or full name with middle name case\n",
    "            #it will still need the lower case modification performed on it\n",
    "            clean_name = raw_name[0].lower()\n",
    "\n",
    "        elif len(raw_name) > 1:\n",
    "            #there was a comma and the order elements will need to be reversed and lowercased\n",
    "            clean_name = raw_name[1] +\" \"+raw_name[0]\n",
    "            clean_name = clean_name.lower()\n",
    "\n",
    "        return clean_name\n",
    "    \n",
    "    else:\n",
    "        #it's a nan and of type float. We'll deal with these later\n",
    "        #ignore for now\n",
    "        pass\n",
    "\n",
    "\n",
    "for x in range(0,len(travel_data['destination_en'])):\n",
    "    this_name = travel_data['name'][x]\n",
    "    travel_data['name'][x] = name_cleaning_function(this_name)\n",
    "               \n",
    "               \n",
    "print(travel_data['name'])\n",
    "        "
   ]
  },
  {
   "cell_type": "markdown",
   "id": "cf98aab5-9a5b-46a3-9d44-8f27ea9bdd75",
   "metadata": {},
   "source": [
    "##### Cleaning Location columns"
   ]
  },
  {
   "cell_type": "markdown",
   "id": "506f2e76-77f2-4b8c-b085-7b61042f9092",
   "metadata": {},
   "source": [
    "The dataset contains location columns in both English and French. The columns contain locations is an incredible amount of variations. Let us use a visit to Toronto, for example. This might be written as \"Toronto\" or \"Toronto, ON\" or \"Toronto, ON, Canada\" or \"Toronto, Ontario, Canada\" or even \"Toronto (Ontario) Canada\" or even yet \"Toronto, On\". This only becomes more complicated when multiple locations are shown in the same entry. Because there are too many variations to allow a single rule to help for all cases, I have chosen instead to just apply a lowercase conversion to all rows. This will at least solve the \"Toronto, ON\" and \"Toronto, On\" inconsistency. Outside of this, all 100,000+ rows would need to be evaluated manually to convert them into a single consistent format."
   ]
  },
  {
   "cell_type": "code",
   "execution_count": 4,
   "id": "63945b55-f1cd-4194-b86a-91e87a188383",
   "metadata": {},
   "outputs": [
    {
     "name": "stdout",
     "output_type": "stream",
     "text": [
      "0                regina, saskatchewan, canada\n",
      "1         vancouver, british columbia, canada\n",
      "2         vancouver, british columbia, canada\n",
      "3         vancouver, british columbia, canada\n",
      "4         vancouver, british columbia, canada\n",
      "                         ...                 \n",
      "116538                     dawson city, yukon\n",
      "116539                       yellowknife, nwt\n",
      "116540                     dawson city, yukon\n",
      "116541                        old crow, yukon\n",
      "116542                        old crow, yukon\n",
      "Name: destination_en, Length: 116543, dtype: object\n",
      "0            regina, saskatchewan, canada\n",
      "1         vancouver, colombie-britannique\n",
      "2         vancouver, colombie-britannique\n",
      "3         vancouver, colombie-britannique\n",
      "4         vancouver, colombie-britannique\n",
      "                       ...               \n",
      "116538                 dawson city, yukon\n",
      "116539                   yellowknife, tno\n",
      "116540                 dawson city, yukon\n",
      "116541                    old crow, yukon\n",
      "116542                    old crow, yukon\n",
      "Name: destination_fr, Length: 116543, dtype: object\n"
     ]
    }
   ],
   "source": [
    "for x in range(0,len(travel_data['name'])):\n",
    "    if type(travel_data['destination_en'][x]) is str:\n",
    "        #nan's are floats, so this checks if it's usable\n",
    "        travel_data['destination_en'][x] = (travel_data['destination_en'][x]).lower()\n",
    "    \n",
    "    if type(travel_data['destination_fr'][x]) is str:\n",
    "        #nan's are floats, so this checks if it's usable\n",
    "        travel_data['destination_fr'][x] = (travel_data['destination_fr'][x]).lower()\n",
    "    \n",
    "\n",
    "print(travel_data['destination_en'])\n",
    "print(travel_data['destination_fr'])"
   ]
  },
  {
   "cell_type": "markdown",
   "id": "27c5520f-67b4-49c1-ab10-3d27e4fbc529",
   "metadata": {},
   "source": [
    "##### Loading and Tranformation of the Hospitality Expenses Dataset"
   ]
  },
  {
   "cell_type": "markdown",
   "id": "4ef6fcdd-f0b9-472c-bbee-720e7d00cd1a",
   "metadata": {},
   "source": [
    "The hospitality expenses dataset has 59,023 entries and 18 attributes. The attributes are as follows with description where required.\n",
    "\n",
    "-Reference Number\n",
    "\n",
    "-Disclosure Group: same groups as previous dataset\n",
    "\n",
    "-Title(English)\n",
    "\n",
    "-Title(French)\n",
    "\n",
    "-Name\n",
    "\n",
    "-purpose of hospitality activity(English)\n",
    "\n",
    "-purpose of hospitatlity activity(French)\n",
    "\n",
    "-start date\n",
    "\n",
    "-end date\n",
    "\n",
    "-municipality where the hospitality activity took place(English)\n",
    "\n",
    "-municipality where the hospitality activity took place(French)\n",
    "\n",
    "-Name of commercial establishment or vendor involved in the hospitality activity (English): If a commercial establishment or vendor provided the hospitality they must best mentioned.\n",
    "\n",
    "-Name of commercial establishment or vendor involved in the hospitality activity (French)\n",
    "\n",
    "-Attendees (Government of Canada Officials)\n",
    "\n",
    "-Attendees (Guests)\n",
    "\n",
    "-Total cost\n",
    "\n",
    "-Additional Comments(English)\n",
    "\n",
    "-Additional Comments(French)"
   ]
  },
  {
   "cell_type": "markdown",
   "id": "d400a950-196c-4c66-b3e7-3331299ebfb0",
   "metadata": {},
   "source": [
    "##### Loading the Dataset"
   ]
  },
  {
   "cell_type": "code",
   "execution_count": 5,
   "id": "1c92e915-4128-42cf-acc0-a6b413e9dbee",
   "metadata": {},
   "outputs": [
    {
     "name": "stdout",
     "output_type": "stream",
     "text": [
      "             ref_number disclosure_group  \\\n",
      "0         H-2020-P1-001              SLE   \n",
      "1        H-2023-P11-001              SLE   \n",
      "2        H-2023-P12-001              SLE   \n",
      "3         H-2024-P3-001              SLE   \n",
      "4         H-2024-P4-001              SLE   \n",
      "...                 ...              ...   \n",
      "59014   H-2023-P8-00001              SLE   \n",
      "59015  H-2023-P12-00001              SLE   \n",
      "59016  H-2024-P02-00001              SLE   \n",
      "59017  H-2024-P04-00001              SLE   \n",
      "59018  H-2024-P04-00002              SLE   \n",
      "\n",
      "                                                title_en  \\\n",
      "0                                Chief Executive Officer   \n",
      "1                                Chief Executive Officer   \n",
      "2                                Chief Executive Officer   \n",
      "3                                Chief Executive Officer   \n",
      "4                                Chief Executive Officer   \n",
      "...                                                  ...   \n",
      "59014                                    Deputy Minister   \n",
      "59015  Assistant Deputy Minister, Departmental Progra...   \n",
      "59016                                    Deputy Minister   \n",
      "59017                                    Deputy Minister   \n",
      "59018                                    Deputy Minister   \n",
      "\n",
      "                                                title_fr               name  \\\n",
      "0                            Président-directeur général  Rizcallah, Philip   \n",
      "1                            Président-directeur général  Rizcallah, Philip   \n",
      "2                            Président-directeur général  Rizcallah, Philip   \n",
      "3                            Président-directeur général  Rizcallah, Philip   \n",
      "4                            Président-directeur général  Rizcallah, Philip   \n",
      "...                                                  ...                ...   \n",
      "59014                                      Sous-ministre      Frances McRae   \n",
      "59015  Sous-ministre adjointe, Programmes et opératio...      Gail Mitchell   \n",
      "59016                                      Sous-ministre      Frances McRae   \n",
      "59017                                      Sous-ministre      Frances McRae   \n",
      "59018                                      Sous-ministre      Frances McRae   \n",
      "\n",
      "                                          description_en  \\\n",
      "0      Meals and refreshments: 3 Days Board meeting o...   \n",
      "1                Board meeting and annual public meeting   \n",
      "2                                         Board  meeting   \n",
      "3      Refreshments for first annual Pan-Canadian For...   \n",
      "4                                Lunch meeting all staff   \n",
      "...                                                  ...   \n",
      "59014  Coffee and refreshments for the Deputy Ministe...   \n",
      "59015                        Lunch for Executive Retreat   \n",
      "59016                        Lunch for executive meeting   \n",
      "59017                          Deputy Ministers' Retreat   \n",
      "59018                        Lunch for Executive Retreat   \n",
      "\n",
      "                                          description_fr start_date  \\\n",
      "0      Repas et rafraichissements: Réunion de 3 jours... 2020-02-10   \n",
      "1      Réunion du conseil d'administration et Assembl... 2022-09-19   \n",
      "2                    Réunion du conseil d'administration 2022-12-13   \n",
      "3      Rafraîchissements pour le premier Forum pancan... 2022-10-18   \n",
      "4                                    Déjeuner de travail 2023-04-04   \n",
      "...                                                  ...        ...   \n",
      "59014  Café et rafraîchissements pour le petit-déjeun... 2022-09-21   \n",
      "59015               Déjeuner pour la retraite des cadres 2023-03-21   \n",
      "59016               Déjeuner pour une réunion des cadres 2023-04-24   \n",
      "59017                        Retraite des sous-ministres 2023-06-01   \n",
      "59018               Déjeuner pour la retraite des cadres 2023-06-20   \n",
      "\n",
      "        end_date               location_en               location_fr  \\\n",
      "0     2020-02-12     Vancouver, BC, Canada     Vancouver, CB, Canada   \n",
      "1     2022-09-21  Montreal, Quebec, Canada  Montréal, Québec, Canada   \n",
      "2     2022-12-15  Toronto, Ontario, Canada  Toronto, Ontario, Canada   \n",
      "3     2022-10-19  Gatineau, Quebec, Canada  Gatineau, Québec, Canada   \n",
      "4     2023-04-04  Gatineau, Quebec, Canada  Gatineau, Québec, Canada   \n",
      "...          ...                       ...                       ...   \n",
      "59014 2022-09-21   Ottawa, Ontario, Canada   Ottawa, Ontario, Canada   \n",
      "59015 2023-03-21  Gatineau, Quebec, Canada  Gatineau, Québec, Canada   \n",
      "59016 2023-04-24  Gatineau, Quebec, Canada  Gatineau, Québec, Canada   \n",
      "59017 2023-06-01   Ottawa, Ontario, Canada   Ottawa, Ontario, Canada   \n",
      "59018 2023-06-20  Gatineau, Quebec, Canada  Gatineau, Québec, Canada   \n",
      "\n",
      "                                  vendor_en  \\\n",
      "0                 Westin Bayshore Vancouver   \n",
      "1                              Westin Hotel   \n",
      "2                Courtyard Toronto Downtown   \n",
      "3                                ASC office   \n",
      "4                                ASC office   \n",
      "...                                     ...   \n",
      "59014                           Cafe Deluxe   \n",
      "59015  Native Women's Association of Canada   \n",
      "59016  Native Women's Association of Canada   \n",
      "59017                  Privy Council Office   \n",
      "59018                                Subway   \n",
      "\n",
      "                                            vendor_fr  employee_attendees  \\\n",
      "0                           Westin Bayshore Vancouver                17.0   \n",
      "1                                        Hôtel Westin                16.0   \n",
      "2                                   Courtyard Toronto                15.0   \n",
      "3                                          Bureau NAC                18.0   \n",
      "4                                          Bureau NAC                40.0   \n",
      "...                                               ...                 ...   \n",
      "59014                                     Cafe Deluxe                 1.0   \n",
      "59015  L'Association des femmes autochtones du Canada                19.0   \n",
      "59016  L'Association des femmes autochtones du Canada                16.0   \n",
      "59017                         Bureau du Conseil privé                 1.0   \n",
      "59018                                          Subway                33.0   \n",
      "\n",
      "       guest_attendees    total additional_comments_en additional_comments_fr  \\\n",
      "0                  6.0  4156.11                    NaN                    NaN   \n",
      "1                  6.0  5992.88                    NaN                    NaN   \n",
      "2                  5.0  7456.02                    NaN                    NaN   \n",
      "3                 43.0  2955.71                    NaN                    NaN   \n",
      "4                  0.0   595.86                    NaN                    NaN   \n",
      "...                ...      ...                    ...                    ...   \n",
      "59014              0.0     4.24                    NaN                    NaN   \n",
      "59015              2.0   724.22                    NaN                    NaN   \n",
      "59016              1.0   586.37                    NaN                    NaN   \n",
      "59017              0.0    35.39                    NaN                    NaN   \n",
      "59018              0.0   252.45                    NaN                    NaN   \n",
      "\n",
      "         owner_org                                    owner_org_title  \n",
      "0      casdo-ocena  Accessibility Standards Canada | Normes d’acce...  \n",
      "1      casdo-ocena  Accessibility Standards Canada | Normes d’acce...  \n",
      "2      casdo-ocena  Accessibility Standards Canada | Normes d’acce...  \n",
      "3      casdo-ocena  Accessibility Standards Canada | Normes d’acce...  \n",
      "4      casdo-ocena  Accessibility Standards Canada | Normes d’acce...  \n",
      "...            ...                                                ...  \n",
      "59014         wage  Women and Gender Equality Canada | Femmes et É...  \n",
      "59015         wage  Women and Gender Equality Canada | Femmes et É...  \n",
      "59016         wage  Women and Gender Equality Canada | Femmes et É...  \n",
      "59017         wage  Women and Gender Equality Canada | Femmes et É...  \n",
      "59018         wage  Women and Gender Equality Canada | Femmes et É...  \n",
      "\n",
      "[59019 rows x 20 columns]\n"
     ]
    }
   ],
   "source": [
    "import pandas as pd\n",
    "\n",
    "hosp_data = pd.read_csv(\"hospitality expenses.csv\", parse_dates=[7, 8])\n",
    "\n",
    "print(hosp_data)"
   ]
  },
  {
   "cell_type": "markdown",
   "id": "74255dc4-8b3e-4396-b7d1-8846bb304b58",
   "metadata": {},
   "source": [
    "##### Dropping uneeded columns"
   ]
  },
  {
   "cell_type": "markdown",
   "id": "7886f9ac-3cb7-409e-bf8c-27f53ddbe0b2",
   "metadata": {},
   "source": [
    "The English and French vendor columns along with the employee attendees and guest attendees columns have no corresponding column in the other dataset and don't have enough value in and of themselves to warrant keeping them. For this reason we will be removing them."
   ]
  },
  {
   "cell_type": "code",
   "execution_count": 6,
   "id": "330f2ad8-82ba-4c31-a82e-e1a249d7dd8a",
   "metadata": {},
   "outputs": [
    {
     "name": "stdout",
     "output_type": "stream",
     "text": [
      "             ref_number disclosure_group  \\\n",
      "0         H-2020-P1-001              SLE   \n",
      "1        H-2023-P11-001              SLE   \n",
      "2        H-2023-P12-001              SLE   \n",
      "3         H-2024-P3-001              SLE   \n",
      "4         H-2024-P4-001              SLE   \n",
      "...                 ...              ...   \n",
      "59014   H-2023-P8-00001              SLE   \n",
      "59015  H-2023-P12-00001              SLE   \n",
      "59016  H-2024-P02-00001              SLE   \n",
      "59017  H-2024-P04-00001              SLE   \n",
      "59018  H-2024-P04-00002              SLE   \n",
      "\n",
      "                                                title_en  \\\n",
      "0                                Chief Executive Officer   \n",
      "1                                Chief Executive Officer   \n",
      "2                                Chief Executive Officer   \n",
      "3                                Chief Executive Officer   \n",
      "4                                Chief Executive Officer   \n",
      "...                                                  ...   \n",
      "59014                                    Deputy Minister   \n",
      "59015  Assistant Deputy Minister, Departmental Progra...   \n",
      "59016                                    Deputy Minister   \n",
      "59017                                    Deputy Minister   \n",
      "59018                                    Deputy Minister   \n",
      "\n",
      "                                                title_fr               name  \\\n",
      "0                            Président-directeur général  Rizcallah, Philip   \n",
      "1                            Président-directeur général  Rizcallah, Philip   \n",
      "2                            Président-directeur général  Rizcallah, Philip   \n",
      "3                            Président-directeur général  Rizcallah, Philip   \n",
      "4                            Président-directeur général  Rizcallah, Philip   \n",
      "...                                                  ...                ...   \n",
      "59014                                      Sous-ministre      Frances McRae   \n",
      "59015  Sous-ministre adjointe, Programmes et opératio...      Gail Mitchell   \n",
      "59016                                      Sous-ministre      Frances McRae   \n",
      "59017                                      Sous-ministre      Frances McRae   \n",
      "59018                                      Sous-ministre      Frances McRae   \n",
      "\n",
      "                                          description_en  \\\n",
      "0      Meals and refreshments: 3 Days Board meeting o...   \n",
      "1                Board meeting and annual public meeting   \n",
      "2                                         Board  meeting   \n",
      "3      Refreshments for first annual Pan-Canadian For...   \n",
      "4                                Lunch meeting all staff   \n",
      "...                                                  ...   \n",
      "59014  Coffee and refreshments for the Deputy Ministe...   \n",
      "59015                        Lunch for Executive Retreat   \n",
      "59016                        Lunch for executive meeting   \n",
      "59017                          Deputy Ministers' Retreat   \n",
      "59018                        Lunch for Executive Retreat   \n",
      "\n",
      "                                          description_fr start_date  \\\n",
      "0      Repas et rafraichissements: Réunion de 3 jours... 2020-02-10   \n",
      "1      Réunion du conseil d'administration et Assembl... 2022-09-19   \n",
      "2                    Réunion du conseil d'administration 2022-12-13   \n",
      "3      Rafraîchissements pour le premier Forum pancan... 2022-10-18   \n",
      "4                                    Déjeuner de travail 2023-04-04   \n",
      "...                                                  ...        ...   \n",
      "59014  Café et rafraîchissements pour le petit-déjeun... 2022-09-21   \n",
      "59015               Déjeuner pour la retraite des cadres 2023-03-21   \n",
      "59016               Déjeuner pour une réunion des cadres 2023-04-24   \n",
      "59017                        Retraite des sous-ministres 2023-06-01   \n",
      "59018               Déjeuner pour la retraite des cadres 2023-06-20   \n",
      "\n",
      "        end_date               location_en               location_fr    total  \\\n",
      "0     2020-02-12     Vancouver, BC, Canada     Vancouver, CB, Canada  4156.11   \n",
      "1     2022-09-21  Montreal, Quebec, Canada  Montréal, Québec, Canada  5992.88   \n",
      "2     2022-12-15  Toronto, Ontario, Canada  Toronto, Ontario, Canada  7456.02   \n",
      "3     2022-10-19  Gatineau, Quebec, Canada  Gatineau, Québec, Canada  2955.71   \n",
      "4     2023-04-04  Gatineau, Quebec, Canada  Gatineau, Québec, Canada   595.86   \n",
      "...          ...                       ...                       ...      ...   \n",
      "59014 2022-09-21   Ottawa, Ontario, Canada   Ottawa, Ontario, Canada     4.24   \n",
      "59015 2023-03-21  Gatineau, Quebec, Canada  Gatineau, Québec, Canada   724.22   \n",
      "59016 2023-04-24  Gatineau, Quebec, Canada  Gatineau, Québec, Canada   586.37   \n",
      "59017 2023-06-01   Ottawa, Ontario, Canada   Ottawa, Ontario, Canada    35.39   \n",
      "59018 2023-06-20  Gatineau, Quebec, Canada  Gatineau, Québec, Canada   252.45   \n",
      "\n",
      "      additional_comments_en additional_comments_fr    owner_org  \\\n",
      "0                        NaN                    NaN  casdo-ocena   \n",
      "1                        NaN                    NaN  casdo-ocena   \n",
      "2                        NaN                    NaN  casdo-ocena   \n",
      "3                        NaN                    NaN  casdo-ocena   \n",
      "4                        NaN                    NaN  casdo-ocena   \n",
      "...                      ...                    ...          ...   \n",
      "59014                    NaN                    NaN         wage   \n",
      "59015                    NaN                    NaN         wage   \n",
      "59016                    NaN                    NaN         wage   \n",
      "59017                    NaN                    NaN         wage   \n",
      "59018                    NaN                    NaN         wage   \n",
      "\n",
      "                                         owner_org_title  \n",
      "0      Accessibility Standards Canada | Normes d’acce...  \n",
      "1      Accessibility Standards Canada | Normes d’acce...  \n",
      "2      Accessibility Standards Canada | Normes d’acce...  \n",
      "3      Accessibility Standards Canada | Normes d’acce...  \n",
      "4      Accessibility Standards Canada | Normes d’acce...  \n",
      "...                                                  ...  \n",
      "59014  Women and Gender Equality Canada | Femmes et É...  \n",
      "59015  Women and Gender Equality Canada | Femmes et É...  \n",
      "59016  Women and Gender Equality Canada | Femmes et É...  \n",
      "59017  Women and Gender Equality Canada | Femmes et É...  \n",
      "59018  Women and Gender Equality Canada | Femmes et É...  \n",
      "\n",
      "[59019 rows x 16 columns]\n"
     ]
    }
   ],
   "source": [
    "hosp_data.drop(columns=['vendor_en', 'vendor_fr', 'employee_attendees', 'guest_attendees'], inplace=True)\n",
    "\n",
    "print(hosp_data)"
   ]
  },
  {
   "cell_type": "markdown",
   "id": "a78ac51f-371b-4e38-849c-9d9c54ea3589",
   "metadata": {},
   "source": [
    "##### Cleaning Name column"
   ]
  },
  {
   "cell_type": "markdown",
   "id": "cae869ec-fc66-4ca7-a948-6095d7bbcade",
   "metadata": {},
   "source": [
    "This dataset has a similar name column with similar issues. For this reason, the same transformation that was applied to the previous name column will again be applied to this one."
   ]
  },
  {
   "cell_type": "code",
   "execution_count": 7,
   "id": "9b9234d3-395b-4280-aa61-406f5afd01f4",
   "metadata": {},
   "outputs": [
    {
     "name": "stdout",
     "output_type": "stream",
     "text": [
      "0         philip rizcallah\n",
      "1         philip rizcallah\n",
      "2         philip rizcallah\n",
      "3         philip rizcallah\n",
      "4         philip rizcallah\n",
      "               ...        \n",
      "59014        frances mcrae\n",
      "59015        gail mitchell\n",
      "59016        frances mcrae\n",
      "59017        frances mcrae\n",
      "59018        frances mcrae\n",
      "Name: name, Length: 59019, dtype: object\n"
     ]
    }
   ],
   "source": [
    "for x in range(0,len(hosp_data['location_en'])):\n",
    "    this_name = hosp_data['name'][x]\n",
    "    hosp_data['name'][x] = name_cleaning_function(this_name)\n",
    "               \n",
    "               \n",
    "print(hosp_data['name'])"
   ]
  },
  {
   "cell_type": "markdown",
   "id": "12dcf54f-8583-4c4d-8743-cdb752579f91",
   "metadata": {},
   "source": [
    "##### Cleaning Location columns"
   ]
  },
  {
   "cell_type": "markdown",
   "id": "24ec154a-0a08-4e4e-af70-9575fc67c6dc",
   "metadata": {},
   "source": [
    "This dataset also has a location column but with one key difference. There is often a location or locations added in brackets or mixed into the location. These are usually business names where supplies were bought or events took place. This extra attribute crammed into the location column has no counterpart in the other dataset and is too varied and inconsistently recorded to warrant keeping. We can detect and remove the brackets, but there is no good way to make a single rule to remove it from the location in the other case. Just to clarify, the \"Super C, Costco, IGA, Art-is-in, Rideau Bakery, Sconewitch, Ottawa, ON\" will be left alone, but the \"Mlt, QC (Delta Montreal)\" type case will be simplified to just the location We will clean the location column by removing these and applying a lowercase conversion like we did before."
   ]
  },
  {
   "cell_type": "code",
   "execution_count": 8,
   "id": "178e9878-af62-4c86-a69c-b750c381934e",
   "metadata": {},
   "outputs": [
    {
     "name": "stdout",
     "output_type": "stream",
     "text": [
      "0           Vancouver, BC, Canada\n",
      "1        Montreal, Quebec, Canada\n",
      "2        Toronto, Ontario, Canada\n",
      "3        Gatineau, Quebec, Canada\n",
      "4        Gatineau, Quebec, Canada\n",
      "                   ...           \n",
      "59014     Ottawa, Ontario, Canada\n",
      "59015    Gatineau, Quebec, Canada\n",
      "59016    Gatineau, Quebec, Canada\n",
      "59017     Ottawa, Ontario, Canada\n",
      "59018    Gatineau, Quebec, Canada\n",
      "Name: location_en, Length: 59019, dtype: object\n",
      "0           Vancouver, CB, Canada\n",
      "1        Montréal, Québec, Canada\n",
      "2        Toronto, Ontario, Canada\n",
      "3        Gatineau, Québec, Canada\n",
      "4        Gatineau, Québec, Canada\n",
      "                   ...           \n",
      "59014     Ottawa, Ontario, Canada\n",
      "59015    Gatineau, Québec, Canada\n",
      "59016    Gatineau, Québec, Canada\n",
      "59017     Ottawa, Ontario, Canada\n",
      "59018    Gatineau, Québec, Canada\n",
      "Name: location_fr, Length: 59019, dtype: object\n"
     ]
    }
   ],
   "source": [
    "def location_cleaning_function(raw_location):\n",
    "    \n",
    "    clean_location = \"\"\n",
    "    collect = True\n",
    "    \n",
    "    if type(raw_location) is str:\n",
    "        #nan's are float and not string and would throw an error here\n",
    "    \n",
    "        for x in raw_location:\n",
    "            if x == ')':\n",
    "                collect = False\n",
    "            elif x == '(':\n",
    "                collect = True\n",
    "\n",
    "            if collect == True:\n",
    "                clean_location += x\n",
    "\n",
    "        return clean_location\n",
    "    \n",
    "    else:\n",
    "        return raw_location\n",
    "    \n",
    "    \n",
    "    \n",
    "for x in range(0,len(hosp_data['location_en'])):\n",
    "    hosp_data['location_en'][x] = location_cleaning_function(hosp_data['location_en'][x])\n",
    "    hosp_data['location_fr'][x] = location_cleaning_function(hosp_data['location_fr'][x])\n",
    "    \n",
    "               \n",
    "               \n",
    "print(hosp_data['location_en'])\n",
    "print(hosp_data['location_fr'])"
   ]
  },
  {
   "cell_type": "markdown",
   "id": "a972e50b-f77a-4d07-bf7a-92d4f4c4c26f",
   "metadata": {},
   "source": [
    "##### Combining dataframes into one dataset"
   ]
  },
  {
   "cell_type": "markdown",
   "id": "73fbee64-1981-4cce-9fce-aa20821473ce",
   "metadata": {},
   "source": [
    "Now that we've completed the essential cleaning it's time to combine these into a single data cube. Some of the column names do not match up so we will rename them before combining the data. We'll also be adding an \"expense type\" column to help us distinguish between them and find patterns later."
   ]
  },
  {
   "cell_type": "code",
   "execution_count": 9,
   "id": "374a7c0c-585c-40d1-9a29-405ceecdb359",
   "metadata": {},
   "outputs": [
    {
     "name": "stdout",
     "output_type": "stream",
     "text": [
      "              ref_number disclosure_group  \\\n",
      "0        T-20120-P11-001              SLE   \n",
      "1        T-2020-P11-0001              SLE   \n",
      "2        T-2020-P11-0002              SLE   \n",
      "3        T-2020-P11-0003              SLE   \n",
      "4        T-2020-P11-0004              SLE   \n",
      "...                  ...              ...   \n",
      "175557   H-2023-P8-00001              SLE   \n",
      "175558  H-2023-P12-00001              SLE   \n",
      "175559  H-2024-P02-00001              SLE   \n",
      "175560  H-2024-P04-00001              SLE   \n",
      "175561  H-2024-P04-00002              SLE   \n",
      "\n",
      "                                                 title_en  \\\n",
      "0                                 Chief Executive Officer   \n",
      "1                                                   Chair   \n",
      "2                                              Vice Chair   \n",
      "3                                      Board Of Directors   \n",
      "4                                      Board Of Directors   \n",
      "...                                                   ...   \n",
      "175557                                    Deputy Minister   \n",
      "175558  Assistant Deputy Minister, Departmental Progra...   \n",
      "175559                                    Deputy Minister   \n",
      "175560                                    Deputy Minister   \n",
      "175561                                    Deputy Minister   \n",
      "\n",
      "                                                 title_fr  \\\n",
      "0                             Président directeur-général   \n",
      "1                                               Président   \n",
      "2                                         vice-présidente   \n",
      "3                          Membre du conseil de direction   \n",
      "4                          Membre du conseil de direction   \n",
      "...                                                   ...   \n",
      "175557                                      Sous-ministre   \n",
      "175558  Sous-ministre adjointe, Programmes et opératio...   \n",
      "175559                                      Sous-ministre   \n",
      "175560                                      Sous-ministre   \n",
      "175561                                      Sous-ministre   \n",
      "\n",
      "                       name  \\\n",
      "0          philip rizcallah   \n",
      "1        paul-claude bérubé   \n",
      "2                 mary reid   \n",
      "3         joseph mclaughlin   \n",
      "4              maureen haan   \n",
      "...                     ...   \n",
      "175557        frances mcrae   \n",
      "175558        gail mitchell   \n",
      "175559        frances mcrae   \n",
      "175560        frances mcrae   \n",
      "175561        frances mcrae   \n",
      "\n",
      "                                               purpose_en  \\\n",
      "0       To attend meeting with Saskatchewan Provincial...   \n",
      "1                                   Board members meeting   \n",
      "2                                   Board members meeting   \n",
      "3                                   Board members meeting   \n",
      "4                                   Board members meeting   \n",
      "...                                                   ...   \n",
      "175557  Coffee and refreshments for the Deputy Ministe...   \n",
      "175558                        Lunch for Executive Retreat   \n",
      "175559                        Lunch for executive meeting   \n",
      "175560                          Deputy Ministers' Retreat   \n",
      "175561                        Lunch for Executive Retreat   \n",
      "\n",
      "                                               purpose_fr start_date  \\\n",
      "0       Pour assister à une réunion avec le gouverneme... 2020-02-03   \n",
      "1                                      Réunion du conseil 2020-02-09   \n",
      "2                                      Réunion du conseil 2020-02-09   \n",
      "3                                      Réunion du conseil 2020-02-09   \n",
      "4                                      Réunion du conseil 2020-02-09   \n",
      "...                                                   ...        ...   \n",
      "175557  Café et rafraîchissements pour le petit-déjeun... 2022-09-21   \n",
      "175558               Déjeuner pour la retraite des cadres 2023-03-21   \n",
      "175559               Déjeuner pour une réunion des cadres 2023-04-24   \n",
      "175560                        Retraite des sous-ministres 2023-06-01   \n",
      "175561               Déjeuner pour la retraite des cadres 2023-06-20   \n",
      "\n",
      "                   end_date                          location_en  \\\n",
      "0                2020-02-04         regina, saskatchewan, canada   \n",
      "1                2020-02-13  vancouver, british columbia, canada   \n",
      "2                2020-02-14  vancouver, british columbia, canada   \n",
      "3                2020-02-12  vancouver, british columbia, canada   \n",
      "4                2020-02-12  vancouver, british columbia, canada   \n",
      "...                     ...                                  ...   \n",
      "175557  2022-09-21 00:00:00              Ottawa, Ontario, Canada   \n",
      "175558  2023-03-21 00:00:00             Gatineau, Quebec, Canada   \n",
      "175559  2023-04-24 00:00:00             Gatineau, Quebec, Canada   \n",
      "175560  2023-06-01 00:00:00              Ottawa, Ontario, Canada   \n",
      "175561  2023-06-20 00:00:00             Gatineau, Quebec, Canada   \n",
      "\n",
      "                            location_fr    total additional_comments_en  \\\n",
      "0          regina, saskatchewan, canada  1118.46                    NaN   \n",
      "1       vancouver, colombie-britannique  2597.14                    NaN   \n",
      "2       vancouver, colombie-britannique  4128.74                    NaN   \n",
      "3       vancouver, colombie-britannique  1076.91                    NaN   \n",
      "4       vancouver, colombie-britannique  2037.19                    NaN   \n",
      "...                                 ...      ...                    ...   \n",
      "175557          Ottawa, Ontario, Canada     4.24                    NaN   \n",
      "175558         Gatineau, Québec, Canada   724.22                    NaN   \n",
      "175559         Gatineau, Québec, Canada   586.37                    NaN   \n",
      "175560          Ottawa, Ontario, Canada    35.39                    NaN   \n",
      "175561         Gatineau, Québec, Canada   252.45                    NaN   \n",
      "\n",
      "       additional_comments_fr    owner_org  \\\n",
      "0                         NaN  casdo-ocena   \n",
      "1                         NaN  casdo-ocena   \n",
      "2                         NaN  casdo-ocena   \n",
      "3                         NaN  casdo-ocena   \n",
      "4                         NaN  casdo-ocena   \n",
      "...                       ...          ...   \n",
      "175557                    NaN         wage   \n",
      "175558                    NaN         wage   \n",
      "175559                    NaN         wage   \n",
      "175560                    NaN         wage   \n",
      "175561                    NaN         wage   \n",
      "\n",
      "                                          owner_org_title expense_type  \n",
      "0       Accessibility Standards Canada | Normes d’acce...       Travel  \n",
      "1       Accessibility Standards Canada | Normes d’acce...       Travel  \n",
      "2       Accessibility Standards Canada | Normes d’acce...       Travel  \n",
      "3       Accessibility Standards Canada | Normes d’acce...       Travel  \n",
      "4       Accessibility Standards Canada | Normes d’acce...       Travel  \n",
      "...                                                   ...          ...  \n",
      "175557  Women and Gender Equality Canada | Femmes et É...  Hospitality  \n",
      "175558  Women and Gender Equality Canada | Femmes et É...  Hospitality  \n",
      "175559  Women and Gender Equality Canada | Femmes et É...  Hospitality  \n",
      "175560  Women and Gender Equality Canada | Femmes et É...  Hospitality  \n",
      "175561  Women and Gender Equality Canada | Femmes et É...  Hospitality  \n",
      "\n",
      "[175562 rows x 17 columns]\n"
     ]
    }
   ],
   "source": [
    "import numpy as np\n",
    "\n",
    "travel_data_column = [\"Travel\"] * len(travel_data['destination_en'])\n",
    "hosp_data_column = [\"Hospitality\"] * len(hosp_data['location_en'])\n",
    "\n",
    "travel_data[\"expense_type\"] = travel_data_column\n",
    "hosp_data[\"expense_type\"] = hosp_data_column\n",
    "\n",
    "travel_data.rename(columns={\"destination_en\": \"location_en\", \"destination_fr\": \"location_fr\"}, inplace=True)\n",
    "hosp_data.rename(columns={\"description_fr\": \"purpose_fr\", \"description_en\": \"purpose_en\"}, inplace=True)\n",
    "\n",
    "\n",
    "combined_data = pd.concat([travel_data, hosp_data], ignore_index=True)\n",
    "\n",
    "print(combined_data)\n",
    "\n"
   ]
  },
  {
   "cell_type": "markdown",
   "id": "fb24e04b-6415-4321-821f-6ea857f2df45",
   "metadata": {},
   "source": [
    "##### Loading and Retrieving Data Into Relational Database"
   ]
  },
  {
   "cell_type": "code",
   "execution_count": 10,
   "id": "dbb2b240-3035-49cd-9687-4c926d7b9e4a",
   "metadata": {},
   "outputs": [
    {
     "name": "stderr",
     "output_type": "stream",
     "text": [
      "\n",
      "[notice] A new release of pip is available: 24.0 -> 24.2\n",
      "[notice] To update, run: C:\\Users\\turqo\\miniconda3\\envs\\homl3\\python.exe -m pip install --upgrade pip\n"
     ]
    },
    {
     "name": "stdout",
     "output_type": "stream",
     "text": [
      "Requirement already satisfied: pymysql in c:\\users\\turqo\\miniconda3\\envs\\homl3\\lib\\site-packages (1.1.1)\n",
      "Note: you may need to restart the kernel to use updated packages.\n"
     ]
    },
    {
     "data": {
      "text/plain": [
       "175562"
      ]
     },
     "execution_count": 10,
     "metadata": {},
     "output_type": "execute_result"
    }
   ],
   "source": [
    "%pip install pymysql\n",
    "\n",
    "# Import dataframe into MySQL\n",
    "import pymysql\n",
    "from sqlalchemy import create_engine\n",
    "database_username = 'root'\n",
    "database_password = 'TimeGone'\n",
    "database_ip       = '127.0.0.1'\n",
    "database_name     = 'mydb'\n",
    "\n",
    "\n",
    "database_connection = create_engine('mysql+pymysql://{0}:{1}@{2}/{3}'.format(database_username, database_password, database_ip, database_name))\n",
    "combined_data.to_sql(con=database_connection, name='expenditure_table', if_exists='replace')"
   ]
  },
  {
   "cell_type": "code",
   "execution_count": 11,
   "id": "f836b3db-3bb3-42c9-bd7c-7d9273f8598c",
   "metadata": {},
   "outputs": [
    {
     "name": "stdout",
     "output_type": "stream",
     "text": [
      "(0, 'T-20120-P11-001', 'SLE', 'Chief Executive Officer', 'Président directeur-général', 'philip rizcallah', 'To attend meeting with Saskatchewan Provincial Government', 'Pour assister à une réunion avec le gouvernement provincial de la Saskatchewan', datetime.datetime(2020, 2, 3, 0, 0), '2020-02-04', 'regina, saskatchewan, canada', 'regina, saskatchewan, canada', 1118.46, None, None, 'casdo-ocena', 'Accessibility Standards Canada | Normes d’accessibilité Canada', 'Travel')\n",
      "(1, 'T-2020-P11-0001', 'SLE', 'Chair', 'Président', ' paul-claude bérubé', 'Board members meeting', 'Réunion du conseil', datetime.datetime(2020, 2, 9, 0, 0), '2020-02-13', 'vancouver, british columbia, canada', 'vancouver, colombie-britannique', 2597.14, None, None, 'casdo-ocena', 'Accessibility Standards Canada | Normes d’accessibilité Canada', 'Travel')\n",
      "(2, 'T-2020-P11-0002', 'SLE', 'Vice Chair', 'vice-présidente', ' mary reid', 'Board members meeting', 'Réunion du conseil', datetime.datetime(2020, 2, 9, 0, 0), '2020-02-14', 'vancouver, british columbia, canada', 'vancouver, colombie-britannique', 4128.74, None, None, 'casdo-ocena', 'Accessibility Standards Canada | Normes d’accessibilité Canada', 'Travel')\n",
      "(3, 'T-2020-P11-0003', 'SLE', 'Board Of Directors', 'Membre du conseil de direction', ' joseph mclaughlin', 'Board members meeting', 'Réunion du conseil', datetime.datetime(2020, 2, 9, 0, 0), '2020-02-12', 'vancouver, british columbia, canada', 'vancouver, colombie-britannique', 1076.91, None, None, 'casdo-ocena', 'Accessibility Standards Canada | Normes d’accessibilité Canada', 'Travel')\n",
      "(4, 'T-2020-P11-0004', 'SLE', 'Board Of Directors', 'Membre du conseil de direction', ' maureen haan', 'Board members meeting', 'Réunion du conseil', datetime.datetime(2020, 2, 9, 0, 0), '2020-02-12', 'vancouver, british columbia, canada', 'vancouver, colombie-britannique', 2037.19, None, None, 'casdo-ocena', 'Accessibility Standards Canada | Normes d’accessibilité Canada', 'Travel')\n",
      "(5, 'T-2020-P11-0005', 'SLE', 'Board Of Directors', 'Membre du conseil de direction', ' penny hartin', 'Board members meeting', 'Réunion du conseil', datetime.datetime(2020, 2, 9, 0, 0), '2020-02-12', 'vancouver, british columbia, canada', 'vancouver, colombie-britannique', 2036.57, None, None, 'casdo-ocena', 'Accessibility Standards Canada | Normes d’accessibilité Canada', 'Travel')\n",
      "(6, 'T-2020-P11-0006', 'SLE', 'Board Of Directors', 'Membre du conseil de direction', ' kory earle', 'Board members meeting', 'Réunion du conseil', datetime.datetime(2020, 2, 9, 0, 0), '2020-02-12', 'vancouver, british columbia, canada', 'vancouver, colombie-britannique', 1953.5, None, None, 'casdo-ocena', 'Accessibility Standards Canada | Normes d’accessibilité Canada', 'Travel')\n",
      "(7, 'T-2020-P11-0007', 'SLE', 'Board Of Directors', 'Membre du conseil de direction', ' laurie ringaert', 'Board members meeting', 'Réunion du conseil', datetime.datetime(2020, 2, 9, 0, 0), '2020-02-12', 'vancouver, british columbia, canada', 'vancouver, colombie-britannique', 1754.78, None, None, 'casdo-ocena', 'Accessibility Standards Canada | Normes d’accessibilité Canada', 'Travel')\n",
      "(8, 'T-2020-P11-0008', 'SLE', 'Board Of Directors', 'Membre du conseil de direction', ' rabia khedr', 'Board members meeting', 'Réunion du conseil', datetime.datetime(2020, 2, 9, 0, 0), '2020-02-12', 'vancouver, british columbia, canada', 'vancouver, colombie-britannique', 2037.57, None, None, 'casdo-ocena', 'Accessibility Standards Canada | Normes d’accessibilité Canada', 'Travel')\n",
      "(9, 'T-2020-P11-0009', 'SLE', 'Chief Executive Officer', 'Président-directeur général', ' philip rizcallah', 'Board members meeting', 'Réunion du conseil', datetime.datetime(2020, 2, 9, 0, 0), '2020-02-14', 'vancouver, british columbia, canada', 'vancouver, colombie-britannique', 3530.84, None, None, 'casdo-ocena', 'Accessibility Standards Canada | Normes d’accessibilité Canada', 'Travel')\n"
     ]
    }
   ],
   "source": [
    "from sqlalchemy.sql import text\n",
    "\n",
    "with database_connection.connect() as con:\n",
    "\n",
    "    rs = con.execute(text('SELECT * FROM expenditure_table LIMIT 10'))\n",
    "    \n",
    "    \n",
    "\n",
    "    for row in rs:\n",
    "        print(row)"
   ]
  },
  {
   "cell_type": "markdown",
   "id": "37306fdd-2143-4981-8386-6684c1486c7a",
   "metadata": {},
   "source": [
    "##### ERD of Data"
   ]
  },
  {
   "cell_type": "markdown",
   "id": "f358f792-d7c2-47db-8adf-1b544840f8c3",
   "metadata": {},
   "source": [
    "An ERD diagram of the data in the relational database has been made and submitted as an image with this notebook. See attached."
   ]
  },
  {
   "cell_type": "markdown",
   "id": "7c682d69-a1bb-4148-92f6-749d20d01ff5",
   "metadata": {},
   "source": [
    "#### Data Preparation (Missing and Duplicate Data): Dominic Pham"
   ]
  },
  {
   "cell_type": "markdown",
   "id": "91e93ee9",
   "metadata": {},
   "source": [
    "In this section, the data that we have collected in the previous step will now be checked for missing and duplicate values. Using imputation methods, we will find the most suitable method for this dataset to fill in the missing values and eliminate duplications to reduce data redundacy."
   ]
  },
  {
   "cell_type": "markdown",
   "id": "2dadb3d2",
   "metadata": {},
   "source": [
    "##### Duplication Removal"
   ]
  },
  {
   "cell_type": "markdown",
   "id": "03384ba9",
   "metadata": {},
   "source": [
    "For duplication removal, it is most appropriate to drop rows that are duplicates in the dataset and we also check the dataset again after the duplication removals to ensure that the dataset does not contain duplicates."
   ]
  },
  {
   "cell_type": "code",
   "execution_count": 12,
   "id": "6ca5d9d5-1d77-4f72-8371-274181a88400",
   "metadata": {},
   "outputs": [
    {
     "name": "stdout",
     "output_type": "stream",
     "text": [
      "Number of duplicate rows: 0\n"
     ]
    }
   ],
   "source": [
    "combined_data = combined_data.drop_duplicates()\n",
    "\n",
    "duplicates = combined_data.duplicated().sum()\n",
    "print(f\"Number of duplicate rows: {duplicates}\")"
   ]
  },
  {
   "cell_type": "markdown",
   "id": "c9e8998b",
   "metadata": {},
   "source": [
    "##### Missing Values"
   ]
  },
  {
   "cell_type": "markdown",
   "id": "648b2586",
   "metadata": {},
   "source": [
    "We first check the dataset to see how many missing values it contains and which columns contain missing values. "
   ]
  },
  {
   "cell_type": "code",
   "execution_count": 13,
   "id": "a0ff15ae",
   "metadata": {},
   "outputs": [
    {
     "name": "stdout",
     "output_type": "stream",
     "text": [
      "Missing values in each column:\n",
      " ref_number                     2\n",
      "disclosure_group           29217\n",
      "title_en                    1763\n",
      "title_fr                    1798\n",
      "name                        1559\n",
      "purpose_en                    40\n",
      "purpose_fr                   138\n",
      "start_date                     0\n",
      "end_date                    3701\n",
      "location_en                 2106\n",
      "location_fr                 1560\n",
      "total                        271\n",
      "additional_comments_en    152987\n",
      "additional_comments_fr    154340\n",
      "owner_org                      0\n",
      "owner_org_title                0\n",
      "expense_type                   0\n",
      "dtype: int64\n"
     ]
    }
   ],
   "source": [
    "missing_values = combined_data.isnull().sum()\n",
    "print(\"Missing values in each column:\\n\", missing_values)"
   ]
  },
  {
   "cell_type": "markdown",
   "id": "bccffbad",
   "metadata": {},
   "source": [
    "We can observe that in the dataset there are missing values in majority of the columns of the dataset and that it includes both numerical and categorical columns that contain th missing values. For imputing the missing values, the most suitable method is to use simple imputer as it is a straight forward method handle missing data and is appropriate for the complexity of the dataset as well. \n",
    "\n",
    "For imputing the missing values for numerical columns, we decided on using the mean for the imputation strategy as it is a common method for imputing numerical columns by using the mean value as it minimizes the sum of squared difference between original and imputed values. \n",
    "\n",
    "For imputing the missing values for categorical columns, we decided on using the most frequent imputation strategy as it is most effective for imputing the values for categorical columns using vlaues that occur the most and it is a liekly value for the missing values. For the `name` column, we decided to impute the missing values separately by filling the missing value with 'Unknown' as it would be more appropriate to use 'Unknown' rather than using the most frequent name as it would provide more meaningful context. "
   ]
  },
  {
   "cell_type": "code",
   "execution_count": 14,
   "id": "eadc15e6",
   "metadata": {},
   "outputs": [
    {
     "name": "stdout",
     "output_type": "stream",
     "text": [
      "Missing values after imputation:\n",
      " ref_number                0\n",
      "disclosure_group          0\n",
      "title_en                  0\n",
      "title_fr                  0\n",
      "name                      0\n",
      "purpose_en                0\n",
      "purpose_fr                0\n",
      "start_date                0\n",
      "end_date                  0\n",
      "location_en               0\n",
      "location_fr               0\n",
      "total                     0\n",
      "additional_comments_en    0\n",
      "additional_comments_fr    0\n",
      "owner_org                 0\n",
      "owner_org_title           0\n",
      "expense_type              0\n",
      "dtype: int64\n"
     ]
    }
   ],
   "source": [
    "from sklearn.impute import SimpleImputer\n",
    "\n",
    "combined_data_imputed = combined_data.copy()\n",
    "\n",
    "num_cols = combined_data_imputed.select_dtypes(include=['float64', 'int64']).columns\n",
    "cat_cols = combined_data_imputed.select_dtypes(include=['object']).columns\n",
    "\n",
    "num_imputer = SimpleImputer(strategy='mean')\n",
    "cat_imputer = SimpleImputer(strategy='most_frequent')\n",
    "\n",
    "combined_data_imputed[num_cols] = num_imputer.fit_transform(combined_data_imputed[num_cols])\n",
    "combined_data_imputed[cat_cols] = cat_imputer.fit_transform(combined_data_imputed[cat_cols])\n",
    "\n",
    "combined_data_imputed['name'] = combined_data_imputed['name'].fillna('Unknown')\n",
    "\n",
    "missing_values_after_imputation = combined_data_imputed.isnull().sum()\n",
    "print(\"Missing values after imputation:\\n\", missing_values_after_imputation)"
   ]
  },
  {
   "cell_type": "code",
   "execution_count": 15,
   "id": "6726987b",
   "metadata": {},
   "outputs": [],
   "source": [
    "combined_data = combined_data_imputed"
   ]
  },
  {
   "cell_type": "markdown",
   "id": "4db7ea2f-58c7-4415-8c8f-dee23cfda3d1",
   "metadata": {},
   "source": [
    "#### Data Preparation (Outliers and Binning): Mason Ward"
   ]
  },
  {
   "cell_type": "markdown",
   "id": "24b6daa3-3753-4e29-ba7a-c4428f1058ba",
   "metadata": {},
   "source": [
    "In this section, we will be detecting outliers and choosing a method of mitigating them. The outlier detection methods being used are the z-score method, IQR method, and isolation forest method."
   ]
  },
  {
   "cell_type": "code",
   "execution_count": 16,
   "id": "c0b6be20-f960-4c93-adf8-3e5100052d93",
   "metadata": {},
   "outputs": [
    {
     "name": "stdout",
     "output_type": "stream",
     "text": [
      "Outliers detected by Z-Score method:\n",
      "                   ref_number       total\n",
      "53255         T-2016-Q2-00010   309309.00\n",
      "53259         T-2016 Q2-00014   313313.00\n",
      "53260         T-2016 Q2-00015   314314.00\n",
      "53261         T-2016 Q2-00016   315315.00\n",
      "63904        T-2013-P12-00055   666387.00\n",
      "64694        T-2015-P08-00024   115005.00\n",
      "64695        T-2015-P08-00011   922199.00\n",
      "122349          H-2023-P9-003    47081.58\n",
      "126726        H-2007-Q4-00076    45663.72\n",
      "155265       H-2014-P08-00015  5395900.00\n",
      "156187       H-2014-P11-00080    44750.69\n",
      "157645       H-2016-P01-00110    91940.00\n",
      "165795   ADMPOL-H-2017-Q3-004   255223.64\n",
      "166032  Corp Sec-2017-Q3-0012    97948.40\n",
      "166291   ADMPOL-H-2018-Q3-003   154704.00\n",
      "166468          H-2019-P3-010    45420.45\n",
      "166624        H-2019-P9-00020    51392.40\n",
      "170902        H-2019-Q3-00001   156809.90\n",
      "174259         H-2024-P03-012    70279.46\n",
      "\n",
      "Outliers detected by IQR method:\n",
      "              ref_number     total\n",
      "38        T-2023-P7-0001  14495.91\n",
      "92        T-2024-P6-0003   4173.35\n",
      "94        T-2024-P7-0002  14317.78\n",
      "101       T-2024-P8-0001  10409.81\n",
      "103       T-2024-P8-0003   4944.22\n",
      "...                  ...       ...\n",
      "175425  TR-2011-Q1-00002   4503.00\n",
      "175427  TR-2011-Q3-00001   4310.00\n",
      "175471    H-2019-P8-0001   6513.60\n",
      "175472     H-2022-P3-001   8864.75\n",
      "175475    H02023-P08-001   8754.68\n",
      "\n",
      "[14240 rows x 2 columns]\n",
      "\n",
      "Outliers detected by Isolation Forest method:\n",
      "              ref_number     total\n",
      "2        T-2020-P11-0002   4128.74\n",
      "9        T-2020-P11-0009   3530.84\n",
      "28        T-2023-P3-0003   3873.18\n",
      "38        T-2023-P7-0001  14495.91\n",
      "84        T-2024-P3-0002   3603.25\n",
      "...                  ...       ...\n",
      "175425  TR-2011-Q1-00002   4503.00\n",
      "175427  TR-2011-Q3-00001   4310.00\n",
      "175471    H-2019-P8-0001   6513.60\n",
      "175472     H-2022-P3-001   8864.75\n",
      "175475    H02023-P08-001   8754.68\n",
      "\n",
      "[17543 rows x 2 columns]\n"
     ]
    }
   ],
   "source": [
    "import pandas as pd\n",
    "import numpy as np\n",
    "from scipy.stats import zscore\n",
    "from sklearn.ensemble import IsolationForest\n",
    "\n",
    "\n",
    "# Z-Score method\n",
    "combined_data['Z-Score'] = zscore(combined_data['total'])\n",
    "z_score_threshold = 3\n",
    "outliers_z = combined_data[np.abs(combined_data['Z-Score']) > z_score_threshold]\n",
    "\n",
    "# IQR method\n",
    "Q1 = combined_data['total'].quantile(0.25)\n",
    "Q3 = combined_data['total'].quantile(0.75)\n",
    "IQR = Q3 - Q1\n",
    "outliers_iqr = combined_data[(combined_data['total'] < (Q1 - 1.5 * IQR)) | (combined_data['total'] > (Q3 + 1.5 * IQR))]\n",
    "\n",
    "# Isolation Forest method\n",
    "iso_forest = IsolationForest(contamination=0.1, random_state=0)\n",
    "combined_data['IsolationForest'] = iso_forest.fit_predict(combined_data[['total']])\n",
    "outliers_iso = combined_data[combined_data['IsolationForest'] == -1]\n",
    "\n",
    "print(\"Outliers detected by Z-Score method:\")\n",
    "print(outliers_z[['ref_number', 'total']])\n",
    "\n",
    "print(\"\\nOutliers detected by IQR method:\")\n",
    "print(outliers_iqr[['ref_number', 'total']])\n",
    "\n",
    "print(\"\\nOutliers detected by Isolation Forest method:\")\n",
    "print(outliers_iso[['ref_number', 'total']])\n"
   ]
  },
  {
   "cell_type": "markdown",
   "id": "6babcde4-02b4-4d97-a9dc-62991aec3873",
   "metadata": {},
   "source": [
    "Each method has detected a reasonable number of outliers, many of which are likely common across the methods. We are going to combine the detected outliers and then cap them, to mitgate their impact on analysis."
   ]
  },
  {
   "cell_type": "code",
   "execution_count": 17,
   "id": "a17298d6-0c6a-4c10-96c1-c0936bc888d2",
   "metadata": {},
   "outputs": [
    {
     "name": "stdout",
     "output_type": "stream",
     "text": [
      "\n",
      "Data after capping outliers:\n",
      "              ref_number    total  total_capped\n",
      "0        T-20120-P11-001  1118.46       1118.46\n",
      "1        T-2020-P11-0001  2597.14       2597.14\n",
      "2        T-2020-P11-0002  4128.74       4128.74\n",
      "3        T-2020-P11-0003  1076.91       1076.91\n",
      "4        T-2020-P11-0004  2037.19       2037.19\n",
      "...                  ...      ...           ...\n",
      "175557   H-2023-P8-00001     4.24          4.24\n",
      "175558  H-2023-P12-00001   724.22        724.22\n",
      "175559  H-2024-P02-00001   586.37        586.37\n",
      "175560  H-2024-P04-00001    35.39         35.39\n",
      "175561  H-2024-P04-00002   252.45        252.45\n",
      "\n",
      "[175562 rows x 3 columns]\n"
     ]
    }
   ],
   "source": [
    "cap_low, cap_high = combined_data['total'].quantile([0.01, 0.99])\n",
    "\n",
    "# Apply the caps\n",
    "combined_data['total_capped'] = np.clip(combined_data['total'], cap_low, cap_high)\n",
    "\n",
    "print(\"\\nData after capping outliers:\")\n",
    "print(combined_data[['ref_number', 'total', 'total_capped']])"
   ]
  },
  {
   "cell_type": "markdown",
   "id": "1f544b92-0f6c-4fbd-9efd-dd1bbec400a2",
   "metadata": {},
   "source": [
    "We can visualize the difference in the data before and after capping, to make sure it worked as well."
   ]
  },
  {
   "cell_type": "code",
   "execution_count": 18,
   "id": "d53d6675-7394-466e-93c6-cade8768c2b4",
   "metadata": {},
   "outputs": [
    {
     "data": {
      "image/png": "[encoded data removed]",
      "text/plain": [
       "<Figure size 1200x600 with 2 Axes>"
      ]
     },
     "metadata": {},
     "output_type": "display_data"
    }
   ],
   "source": [
    "import matplotlib.pyplot as plt\n",
    "\n",
    "# Visualize the impact of capping on the 'total' column\n",
    "plt.figure(figsize=(12, 6))\n",
    "\n",
    "plt.subplot(1, 2, 1)\n",
    "plt.hist(combined_data['total'], bins=50, color='skyblue', edgecolor='black')\n",
    "plt.title('Total Before Capping')\n",
    "plt.xlabel('Total')\n",
    "plt.ylabel('Frequency')\n",
    "\n",
    "plt.subplot(1, 2, 2)\n",
    "plt.hist(combined_data['total_capped'], bins=50, color='salmon', edgecolor='black')\n",
    "plt.title('Total After Capping')\n",
    "plt.xlabel('Total')\n",
    "plt.ylabel('Frequency')\n",
    "\n",
    "plt.tight_layout()\n",
    "plt.show()\n"
   ]
  },
  {
   "cell_type": "markdown",
   "id": "9cd4d0c0-b8f2-4fe2-a8aa-27207daf8ea8",
   "metadata": {},
   "source": [
    "The next thing we're going to do is discretize the numerical columns into bins, as well as turning nominal and ordinal columns into a numerical representation."
   ]
  },
  {
   "cell_type": "markdown",
   "id": "b1df0197-03d7-4cc3-8a12-659fbe3f8e5e",
   "metadata": {},
   "source": [
    "First, we're dropping the outlier detection columns created in the previous step, and then encoding the nominal and ordinal columns using Label Encoder. "
   ]
  },
  {
   "cell_type": "code",
   "execution_count": 19,
   "id": "80576b3a-1ae0-44cf-9020-b72ed4a0c282",
   "metadata": {},
   "outputs": [
    {
     "name": "stdout",
     "output_type": "stream",
     "text": [
      "   ref_number  disclosure_group  title_en  title_fr  name  purpose_en  \\\n",
      "0       71210                 3      1605      3915  6884       68095   \n",
      "1       90495                 3      1500      3905  2723       18514   \n",
      "2       90499                 3      4975      6950  2275       18514   \n",
      "3       90500                 3      1407      3573  1691       18514   \n",
      "4       90501                 3      1407      3573  2316       18514   \n",
      "\n",
      "   purpose_fr start_date    end_date  location_en  location_fr  \\\n",
      "0       49619 2020-02-03  2020-02-04        20084        21521   \n",
      "1       69206 2020-02-09  2020-02-13        24999        26868   \n",
      "2       69206 2020-02-09  2020-02-14        24999        26868   \n",
      "3       69206 2020-02-09  2020-02-12        24999        26868   \n",
      "4       69206 2020-02-09  2020-02-12        24999        26868   \n",
      "\n",
      "   additional_comments_en  additional_comments_fr  owner_org  owner_org_title  \\\n",
      "0                    4634                    4235          7                0   \n",
      "1                    4634                    4235          7                0   \n",
      "2                    4634                    4235          7                0   \n",
      "3                    4634                    4235          7                0   \n",
      "4                    4634                    4235          7                0   \n",
      "\n",
      "   expense_type  \n",
      "0             1  \n",
      "1             1  \n",
      "2             1  \n",
      "3             1  \n",
      "4             1  \n"
     ]
    }
   ],
   "source": [
    "from sklearn.preprocessing import LabelEncoder\n",
    "\n",
    "encoded_data = combined_data\n",
    "\n",
    "# Dropping the outlier detection columns first\n",
    "\n",
    "# List of columns to drop\n",
    "columns_to_drop = ['Z-Score', 'IsolationForest', 'total', 'total_capped']\n",
    "\n",
    "# Drop the specified columns\n",
    "encoded_data = encoded_data.drop(columns=columns_to_drop)\n",
    "\n",
    "label_encoder = LabelEncoder()\n",
    "\n",
    "# List of columns to encode\n",
    "columns_to_encode = ['ref_number', 'disclosure_group', 'title_en', 'title_fr', 'name', 'purpose_en', \n",
    "                     'purpose_fr', 'location_en', 'location_fr', 'additional_comments_en', \n",
    "                     'additional_comments_fr', 'owner_org', 'owner_org_title', 'expense_type']\n",
    "\n",
    "# Apply label encoding to each of the columns\n",
    "for column in columns_to_encode:\n",
    "    encoded_data[column] = label_encoder.fit_transform(encoded_data[column])\n",
    "\n",
    "# Display the first few rows of the encoded data\n",
    "print(encoded_data.head())"
   ]
  },
  {
   "cell_type": "markdown",
   "id": "1ba9d04c-da39-4f9d-b58f-9f2ab771e230",
   "metadata": {},
   "source": [
    "Next is binning. For the encoded data, we are using range binning. Because the values assigned to encoded data are arbitrary, binning them in an unbiased way makes sure we don't make misleading conclusions based on the bins, while keeping same-binned items together."
   ]
  },
  {
   "cell_type": "code",
   "execution_count": 20,
   "id": "d02ce3c6-643c-4a09-89ec-66c80eaac146",
   "metadata": {},
   "outputs": [
    {
     "name": "stdout",
     "output_type": "stream",
     "text": [
      "        ref_number  disclosure_group  title_en  title_fr  name  purpose_en  \\\n",
      "0            71210                 3      1605      3915  6884       68095   \n",
      "1            90495                 3      1500      3905  2723       18514   \n",
      "2            90499                 3      4975      6950  2275       18514   \n",
      "3            90500                 3      1407      3573  1691       18514   \n",
      "4            90501                 3      1407      3573  2316       18514   \n",
      "...            ...               ...       ...       ...   ...         ...   \n",
      "175557       52974                 3      2311      4602  4782       22829   \n",
      "175558       52702                 3       920      5345  4848       35731   \n",
      "175559       53175                 3      2311      4602  4782       35785   \n",
      "175560       53265                 3      2311      4602  4782       25581   \n",
      "175561       53266                 3      2311      4602  4782       35731   \n",
      "\n",
      "        purpose_fr start_date             end_date  location_en  ...  \\\n",
      "0            49619 2020-02-03           2020-02-04        20084  ...   \n",
      "1            69206 2020-02-09           2020-02-13        24999  ...   \n",
      "2            69206 2020-02-09           2020-02-14        24999  ...   \n",
      "3            69206 2020-02-09           2020-02-12        24999  ...   \n",
      "4            69206 2020-02-09           2020-02-12        24999  ...   \n",
      "...            ...        ...                  ...          ...  ...   \n",
      "175557       18041 2022-09-21  2022-09-21 00:00:00         5047  ...   \n",
      "175558       26787 2023-03-21  2023-03-21 00:00:00         2406  ...   \n",
      "175559       26839 2023-04-24  2023-04-24 00:00:00         2406  ...   \n",
      "175560       62378 2023-06-01  2023-06-01 00:00:00         5047  ...   \n",
      "175561       26787 2023-06-20  2023-06-20 00:00:00         2406  ...   \n",
      "\n",
      "        name_binned  purpose_en_binned  purpose_fr_binned  location_en_binned  \\\n",
      "0              High             Medium                Low              Medium   \n",
      "1            Medium                Low             Medium              Medium   \n",
      "2            Medium                Low             Medium              Medium   \n",
      "3               Low                Low             Medium              Medium   \n",
      "4            Medium                Low             Medium              Medium   \n",
      "...             ...                ...                ...                 ...   \n",
      "175557       Medium             Medium                Low                 Low   \n",
      "175558       Medium             Medium                Low                 Low   \n",
      "175559       Medium             Medium                Low                 Low   \n",
      "175560       Medium             Medium             Medium                 Low   \n",
      "175561       Medium             Medium                Low                 Low   \n",
      "\n",
      "        location_fr_binned  additional_comments_en_binned  \\\n",
      "0                   Medium                            Low   \n",
      "1                   Medium                            Low   \n",
      "2                   Medium                            Low   \n",
      "3                   Medium                            Low   \n",
      "4                   Medium                            Low   \n",
      "...                    ...                            ...   \n",
      "175557                 Low                            Low   \n",
      "175558                 Low                            Low   \n",
      "175559                 Low                            Low   \n",
      "175560                 Low                            Low   \n",
      "175561                 Low                            Low   \n",
      "\n",
      "       additional_comments_fr_binned owner_org_binned owner_org_title_binned  \\\n",
      "0                                Low              Low                    Low   \n",
      "1                                Low              Low                    Low   \n",
      "2                                Low              Low                    Low   \n",
      "3                                Low              Low                    Low   \n",
      "4                                Low              Low                    Low   \n",
      "...                              ...              ...                    ...   \n",
      "175557                           Low             High                   High   \n",
      "175558                           Low             High                   High   \n",
      "175559                           Low             High                   High   \n",
      "175560                           Low             High                   High   \n",
      "175561                           Low             High                   High   \n",
      "\n",
      "       expense_type_binned  \n",
      "0                     High  \n",
      "1                     High  \n",
      "2                     High  \n",
      "3                     High  \n",
      "4                     High  \n",
      "...                    ...  \n",
      "175557                 Low  \n",
      "175558                 Low  \n",
      "175559                 Low  \n",
      "175560                 Low  \n",
      "175561                 Low  \n",
      "\n",
      "[175562 rows x 30 columns]\n"
     ]
    }
   ],
   "source": [
    "# Binning\n",
    "\n",
    "# ref_number\n",
    "encoded_data['ref_number_binned'] = pd.cut(encoded_data['ref_number'], bins=[0, 20000, 70000, float('inf')], labels=['Low', 'Medium', 'High'])\n",
    "\n",
    "# disclosure_group\n",
    "encoded_data['disclosure_group_binned'] = encoded_data['disclosure_group'].map({1: 'Low', 2: 'Medium', 3: 'High'})\n",
    "\n",
    "# title_en\n",
    "encoded_data['title_en_binned'] = pd.cut(encoded_data['title_en'], bins=[0, 1500, 3000, float('inf')], labels=['Low', 'Medium', 'High'])\n",
    "\n",
    "# title_fr\n",
    "encoded_data['title_fr_binned'] = pd.cut(encoded_data['title_fr'], bins=[0, 3500, 7000, float('inf')], labels=['Low', 'Medium', 'High'])\n",
    "\n",
    "# name\n",
    "encoded_data['name_binned'] = pd.cut(encoded_data['name'], bins=[0, 2000, 6000, float('inf')], labels=['Low', 'Medium', 'High'])\n",
    "\n",
    "# purpose_en\n",
    "encoded_data['purpose_en_binned'] = pd.cut(encoded_data['purpose_en'], bins=[0, 20000, 70000, float('inf')], labels=['Low', 'Medium', 'High'])\n",
    "\n",
    "# purpose_fr\n",
    "encoded_data['purpose_fr_binned'] = pd.cut(encoded_data['purpose_fr'], bins=[0, 50000, 90000, float('inf')], labels=['Low', 'Medium', 'High'])\n",
    "\n",
    "# location_en\n",
    "encoded_data['location_en_binned'] = pd.cut(encoded_data['location_en'], bins=[0, 20000, 40000, float('inf')], labels=['Low', 'Medium', 'High'])\n",
    "\n",
    "# location_fr\n",
    "encoded_data['location_fr_binned'] = pd.cut(encoded_data['location_fr'], bins=[0, 20000, 40000, float('inf')], labels=['Low', 'Medium', 'High'])\n",
    "\n",
    "# additional_comments_en\n",
    "encoded_data['additional_comments_en_binned'] = pd.cut(encoded_data['additional_comments_en'], bins=[0, 5000, 10000, float('inf')], labels=['Low', 'Medium', 'High'])\n",
    "\n",
    "# additional_comments_fr\n",
    "encoded_data['additional_comments_fr_binned'] = pd.cut(encoded_data['additional_comments_fr'], bins=[0, 5000, 10000, float('inf')], labels=['Low', 'Medium', 'High'])\n",
    "\n",
    "# owner_org\n",
    "encoded_data['owner_org_binned'] = encoded_data['owner_org'].map(\n",
    "    lambda x: 'Low' if x in range(0, 21) else ('Medium' if x in range(21, 61) else ('High' if x >= 61 else 'Unknown'))\n",
    ")\n",
    "\n",
    "# owner_org_title\n",
    "encoded_data['owner_org_title_binned'] = encoded_data['owner_org_title'].map(\n",
    "    lambda x: 'Low' if x in range(0, 21) else ('Medium' if x in range(21, 61) else ('High' if x >= 61 else 'Unknown'))\n",
    ")\n",
    "\n",
    "# expense_type\n",
    "encoded_data['expense_type_binned'] = encoded_data['expense_type'].map({0: 'Low', 1: 'High'})\n",
    "\n",
    "print(encoded_data)\n"
   ]
  },
  {
   "cell_type": "markdown",
   "id": "51f8be49-3b00-4899-9345-48354926a813",
   "metadata": {},
   "source": [
    "For the date-time columns, we also used range binning, but set the bins to correspond with the years, which span from 2003 onwards"
   ]
  },
  {
   "cell_type": "code",
   "execution_count": 21,
   "id": "94a83eb5-3691-4b4d-b1df-7194f1e5097c",
   "metadata": {},
   "outputs": [
    {
     "name": "stdout",
     "output_type": "stream",
     "text": [
      "        ref_number  disclosure_group  title_en  title_fr  name  purpose_en  \\\n",
      "0            71210                 3      1605      3915  6884       68095   \n",
      "1            90495                 3      1500      3905  2723       18514   \n",
      "2            90499                 3      4975      6950  2275       18514   \n",
      "3            90500                 3      1407      3573  1691       18514   \n",
      "4            90501                 3      1407      3573  2316       18514   \n",
      "...            ...               ...       ...       ...   ...         ...   \n",
      "175557       52974                 3      2311      4602  4782       22829   \n",
      "175558       52702                 3       920      5345  4848       35731   \n",
      "175559       53175                 3      2311      4602  4782       35785   \n",
      "175560       53265                 3      2311      4602  4782       25581   \n",
      "175561       53266                 3      2311      4602  4782       35731   \n",
      "\n",
      "        purpose_fr start_date   end_date  location_en  ...  \\\n",
      "0            49619 2020-02-03 2020-02-04        20084  ...   \n",
      "1            69206 2020-02-09 2020-02-13        24999  ...   \n",
      "2            69206 2020-02-09 2020-02-14        24999  ...   \n",
      "3            69206 2020-02-09 2020-02-12        24999  ...   \n",
      "4            69206 2020-02-09 2020-02-12        24999  ...   \n",
      "...            ...        ...        ...          ...  ...   \n",
      "175557       18041 2022-09-21 2022-09-21         5047  ...   \n",
      "175558       26787 2023-03-21 2023-03-21         2406  ...   \n",
      "175559       26839 2023-04-24 2023-04-24         2406  ...   \n",
      "175560       62378 2023-06-01 2023-06-01         5047  ...   \n",
      "175561       26787 2023-06-20 2023-06-20         2406  ...   \n",
      "\n",
      "        location_fr_binned  additional_comments_en_binned  \\\n",
      "0                   Medium                            Low   \n",
      "1                   Medium                            Low   \n",
      "2                   Medium                            Low   \n",
      "3                   Medium                            Low   \n",
      "4                   Medium                            Low   \n",
      "...                    ...                            ...   \n",
      "175557                 Low                            Low   \n",
      "175558                 Low                            Low   \n",
      "175559                 Low                            Low   \n",
      "175560                 Low                            Low   \n",
      "175561                 Low                            Low   \n",
      "\n",
      "        additional_comments_fr_binned  owner_org_binned  \\\n",
      "0                                 Low               Low   \n",
      "1                                 Low               Low   \n",
      "2                                 Low               Low   \n",
      "3                                 Low               Low   \n",
      "4                                 Low               Low   \n",
      "...                               ...               ...   \n",
      "175557                            Low              High   \n",
      "175558                            Low              High   \n",
      "175559                            Low              High   \n",
      "175560                            Low              High   \n",
      "175561                            Low              High   \n",
      "\n",
      "        owner_org_title_binned  expense_type_binned start_year end_year  \\\n",
      "0                          Low                 High       2020   2020.0   \n",
      "1                          Low                 High       2020   2020.0   \n",
      "2                          Low                 High       2020   2020.0   \n",
      "3                          Low                 High       2020   2020.0   \n",
      "4                          Low                 High       2020   2020.0   \n",
      "...                        ...                  ...        ...      ...   \n",
      "175557                    High                  Low       2022   2022.0   \n",
      "175558                    High                  Low       2023   2023.0   \n",
      "175559                    High                  Low       2023   2023.0   \n",
      "175560                    High                  Low       2023   2023.0   \n",
      "175561                    High                  Low       2023   2023.0   \n",
      "\n",
      "       start_year_binned end_year_binned  \n",
      "0                   2019            2019  \n",
      "1                   2019            2019  \n",
      "2                   2019            2019  \n",
      "3                   2019            2019  \n",
      "4                   2019            2019  \n",
      "...                  ...             ...  \n",
      "175557              2021            2021  \n",
      "175558              2022            2022  \n",
      "175559              2022            2022  \n",
      "175560              2022            2022  \n",
      "175561              2022            2022  \n",
      "\n",
      "[175562 rows x 34 columns]\n"
     ]
    }
   ],
   "source": [
    "# Convert start_date and end_date to datetime, handling blank values\n",
    "encoded_data['start_date'] = pd.to_datetime(encoded_data['start_date'], errors='coerce')\n",
    "encoded_data['end_date'] = pd.to_datetime(encoded_data['end_date'], errors='coerce')\n",
    "\n",
    "# Extract the year from the dates\n",
    "encoded_data['start_year'] = encoded_data['start_date'].dt.year\n",
    "encoded_data['end_year'] = encoded_data['end_date'].dt.year\n",
    "\n",
    "# Define the year bins\n",
    "year_bins = list(range(2003, 2099)) #2003 is the earliest year and 2099 is the latest in our dataset\n",
    "\n",
    "# Binning start_year\n",
    "encoded_data['start_year_binned'] = pd.cut(\n",
    "    encoded_data['start_year'], \n",
    "    bins=year_bins, \n",
    "    labels=[str(year) for year in year_bins[:-1]]\n",
    ")\n",
    "\n",
    "# Binning end_year\n",
    "encoded_data['end_year_binned'] = pd.cut(\n",
    "    encoded_data['end_year'], \n",
    "    bins=year_bins, \n",
    "    labels=[str(year) for year in year_bins[:-1]]\n",
    ")\n",
    "\n",
    "\n",
    "# Print the binned data\n",
    "print(encoded_data)"
   ]
  },
  {
   "cell_type": "markdown",
   "id": "692f4767-8799-4b77-a943-7483399022a8",
   "metadata": {},
   "source": [
    "Some of the end years showed up as NaT, so we're going to investigate the cause of that, since there shouldn't be any missing values in the dataset."
   ]
  },
  {
   "cell_type": "code",
   "execution_count": 22,
   "id": "5f721507-248a-4388-b6a9-927a26767d07",
   "metadata": {},
   "outputs": [
    {
     "name": "stdout",
     "output_type": "stream",
     "text": [
      "Rows with invalid datetime values:\n",
      "53353    0001-01-01\n",
      "88476    1156-12-09\n",
      "89188    1116-12-08\n",
      "97133    3013-01-31\n",
      "Name: end_date, dtype: object\n"
     ]
    }
   ],
   "source": [
    "df = combined_data.copy()\n",
    "\n",
    "df['converted'] = pd.to_datetime(df['end_date'], errors='coerce')\n",
    "\n",
    "rows_with_nat = df[df['converted'].isna()]\n",
    "\n",
    "print(\"Rows with invalid datetime values:\")\n",
    "print(rows_with_nat['end_date'])"
   ]
  },
  {
   "cell_type": "markdown",
   "id": "762b6806-14ad-4fc1-8c39-f0579364eb45",
   "metadata": {},
   "source": [
    "Since just 4 incorrect dates were found, we will drop them from the dataset."
   ]
  },
  {
   "cell_type": "code",
   "execution_count": 23,
   "id": "04c9863b-f42a-42ac-8242-7c5f1f926508",
   "metadata": {},
   "outputs": [
    {
     "name": "stdout",
     "output_type": "stream",
     "text": [
      "Rows with invalid datetime values:\n",
      "Series([], Name: end_date, dtype: datetime64[ns])\n"
     ]
    }
   ],
   "source": [
    "encoded_data = encoded_data.dropna(subset=['end_date'])\n",
    "\n",
    "rows_with_nat = encoded_data[encoded_data['end_date'].isna()]\n",
    "\n",
    "print(\"Rows with invalid datetime values:\")\n",
    "print(rows_with_nat['end_date'])"
   ]
  }
 ],
 "metadata": {
  "kernelspec": {
   "display_name": "Python 3 (ipykernel)",
   "language": "python",
   "name": "python3"
  },
  "language_info": {
   "codemirror_mode": {
    "name": "ipython",
    "version": 3
   },
   "file_extension": ".py",
   "mimetype": "text/x-python",
   "name": "python",
   "nbconvert_exporter": "python",
   "pygments_lexer": "ipython3",
   "version": "3.10.13"
  }
 },
 "nbformat": 4,
 "nbformat_minor": 5
}
